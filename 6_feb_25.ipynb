{
 "cells": [
  {
   "cell_type": "code",
   "execution_count": 36,
   "id": "0d206b87-64d9-4754-9e9f-401d30c79e8b",
   "metadata": {},
   "outputs": [
    {
     "name": "stdout",
     "output_type": "stream",
     "text": [
      "number of Attributes 15\n"
     ]
    }
   ],
   "source": [
    "import pandas as pd\n",
    "df=pd.read_csv(\"Car_sales.csv\")\n",
    "num_attributes=df.shape[1]\n",
    "print(\"number of Attributes\",num_attributes)\n"
   ]
  },
  {
   "cell_type": "code",
   "execution_count": 14,
   "id": "6cb78134-da07-4242-b5ee-7d3f6d766064",
   "metadata": {},
   "outputs": [
    {
     "name": "stdout",
     "output_type": "stream",
     "text": [
      "    Manufacturer              Model  Sales in thousands 4-year resale value  \\\n",
      "0  Acura          Integra                        16.919               16.36   \n",
      "1  Acura          TL                             39.384              19.875   \n",
      "2  Acura          CL                             14.114              18.225   \n",
      "3  Acura          RL                              8.588              29.725   \n",
      "4  Audi           A4                             20.397              22.255   \n",
      "5  Audi           A6                             18.780              23.555   \n",
      "\n",
      "  Vehicle type Price in thousands Engine size Horsepower Wheelbase Width  \\\n",
      "0    Passenger               21.5         1.8        140     101.2  67.3   \n",
      "1    Passenger               28.4         3.2        225     108.1  70.3   \n",
      "2    Passenger                  .         3.2        225     106.9  70.6   \n",
      "3    Passenger                 42         3.5        210     114.6  71.4   \n",
      "4    Passenger              23.99         1.8        150     102.6  68.2   \n",
      "5    Passenger              33.95         2.8        200     108.7  76.1   \n",
      "\n",
      "  Length Curb weight Fuel capacity Fuel efficiency Latest Launch  \n",
      "0  172.4       2.639          13.2              28      2-Feb-14  \n",
      "1  192.9       3.517          17.2              25      6-Mar-15  \n",
      "2    192        3.47          17.2              26      1-Apr-14  \n",
      "3  196.6        3.85            18              22      3-Oct-15  \n",
      "4    178       2.998          16.4              27     10-Aug-15  \n",
      "5    192       3.561          18.5              22      8-Sep-15  \n"
     ]
    }
   ],
   "source": [
    "import pandas as pd\n",
    "df=pd.read_csv(\"Car_sales.csv\")\n",
    "print(df.head(6))"
   ]
  },
  {
   "cell_type": "code",
   "execution_count": 30,
   "id": "0dabd694-0f98-4fcf-9547-5436b525f85a",
   "metadata": {},
   "outputs": [
    {
     "name": "stdout",
     "output_type": "stream",
     "text": [
      "<class 'pandas.core.frame.DataFrame'>\n",
      "RangeIndex: 157 entries, 0 to 156\n",
      "Data columns (total 15 columns):\n",
      " #   Column               Non-Null Count  Dtype  \n",
      "---  ------               --------------  -----  \n",
      " 0   Manufacturer         157 non-null    object \n",
      " 1   Model                157 non-null    object \n",
      " 2   Sales in thousands   157 non-null    float64\n",
      " 3   4-year resale value  157 non-null    object \n",
      " 4   Vehicle type         157 non-null    object \n",
      " 5   Price in thousands   157 non-null    object \n",
      " 6   Engine size          157 non-null    object \n",
      " 7   Horsepower           157 non-null    object \n",
      " 8   Wheelbase            157 non-null    object \n",
      " 9   Width                157 non-null    object \n",
      " 10  Length               157 non-null    object \n",
      " 11  Curb weight          157 non-null    object \n",
      " 12  Fuel capacity        157 non-null    object \n",
      " 13  Fuel efficiency      157 non-null    object \n",
      " 14  Latest Launch        157 non-null    object \n",
      "dtypes: float64(1), object(14)\n",
      "memory usage: 18.5+ KB\n",
      "None\n"
     ]
    }
   ],
   "source": [
    "print(df.info())"
   ]
  },
  {
   "cell_type": "code",
   "execution_count": 32,
   "id": "31ac4929-2f51-4624-ac16-1d431f6109e0",
   "metadata": {},
   "outputs": [
    {
     "name": "stdout",
     "output_type": "stream",
     "text": [
      "number of rows 157\n",
      "number of colums 15\n"
     ]
    }
   ],
   "source": [
    "num_rows,num_colms=df.shape\n",
    "print(\"number of rows\",num_rows)\n",
    "print(\"number of colums\",num_colms)\n"
   ]
  },
  {
   "cell_type": "code",
   "execution_count": null,
   "id": "373dbc74-63fb-4aaa-ac74-e031c1f3a472",
   "metadata": {},
   "outputs": [],
   "source": [
    "1.Read top five values"
   ]
  },
  {
   "cell_type": "code",
   "execution_count": 38,
   "id": "9a34fa2f-24fd-4846-bf51-ea0ef1029d10",
   "metadata": {},
   "outputs": [
    {
     "name": "stdout",
     "output_type": "stream",
     "text": [
      "    Manufacturer              Model  Sales in thousands 4-year resale value  \\\n",
      "0  Acura          Integra                        16.919               16.36   \n",
      "1  Acura          TL                             39.384              19.875   \n",
      "2  Acura          CL                             14.114              18.225   \n",
      "3  Acura          RL                              8.588              29.725   \n",
      "4  Audi           A4                             20.397              22.255   \n",
      "\n",
      "  Vehicle type Price in thousands Engine size Horsepower Wheelbase Width  \\\n",
      "0    Passenger               21.5         1.8        140     101.2  67.3   \n",
      "1    Passenger               28.4         3.2        225     108.1  70.3   \n",
      "2    Passenger                  .         3.2        225     106.9  70.6   \n",
      "3    Passenger                 42         3.5        210     114.6  71.4   \n",
      "4    Passenger              23.99         1.8        150     102.6  68.2   \n",
      "\n",
      "  Length Curb weight Fuel capacity Fuel efficiency Latest Launch  \n",
      "0  172.4       2.639          13.2              28      2-Feb-14  \n",
      "1  192.9       3.517          17.2              25      6-Mar-15  \n",
      "2    192        3.47          17.2              26      1-Apr-14  \n",
      "3  196.6        3.85            18              22      3-Oct-15  \n",
      "4    178       2.998          16.4              27     10-Aug-15  \n"
     ]
    }
   ],
   "source": [
    "import pandas as pd\n",
    "df=pd.read_csv(\"Car_sales.csv\")\n",
    "print(df.head())"
   ]
  },
  {
   "cell_type": "code",
   "execution_count": null,
   "id": "d0b601be-90b1-4e6c-9e17-87daf5e78747",
   "metadata": {},
   "outputs": [],
   "source": [
    "2. Print dataframe info_data types of each column"
   ]
  },
  {
   "cell_type": "code",
   "execution_count": 40,
   "id": "67e31112-bdab-44bb-9a58-eea77e29b916",
   "metadata": {},
   "outputs": [
    {
     "name": "stdout",
     "output_type": "stream",
     "text": [
      "<class 'pandas.core.frame.DataFrame'>\n",
      "RangeIndex: 157 entries, 0 to 156\n",
      "Data columns (total 15 columns):\n",
      " #   Column               Non-Null Count  Dtype  \n",
      "---  ------               --------------  -----  \n",
      " 0   Manufacturer         157 non-null    object \n",
      " 1   Model                157 non-null    object \n",
      " 2   Sales in thousands   157 non-null    float64\n",
      " 3   4-year resale value  157 non-null    object \n",
      " 4   Vehicle type         157 non-null    object \n",
      " 5   Price in thousands   157 non-null    object \n",
      " 6   Engine size          157 non-null    object \n",
      " 7   Horsepower           157 non-null    object \n",
      " 8   Wheelbase            157 non-null    object \n",
      " 9   Width                157 non-null    object \n",
      " 10  Length               157 non-null    object \n",
      " 11  Curb weight          157 non-null    object \n",
      " 12  Fuel capacity        157 non-null    object \n",
      " 13  Fuel efficiency      157 non-null    object \n",
      " 14  Latest Launch        157 non-null    object \n",
      "dtypes: float64(1), object(14)\n",
      "memory usage: 18.5+ KB\n",
      "None\n"
     ]
    }
   ],
   "source": [
    "print(df.info())"
   ]
  },
  {
   "cell_type": "code",
   "execution_count": null,
   "id": "acd46279-bc50-432d-8ee0-73f7a0b64955",
   "metadata": {},
   "outputs": [],
   "source": [
    "3. Print number of rows and columns"
   ]
  },
  {
   "cell_type": "code",
   "execution_count": 42,
   "id": "36851d0e-1d1a-4db2-9f00-9fcd83fa8ffa",
   "metadata": {},
   "outputs": [
    {
     "name": "stdout",
     "output_type": "stream",
     "text": [
      "number of rows 157\n",
      "number of colums 15\n"
     ]
    }
   ],
   "source": [
    "num_rows,num_colms=df.shape\n",
    "print(\"number of rows\",num_rows)\n",
    "print(\"number of colums\",num_colms)\n"
   ]
  },
  {
   "cell_type": "code",
   "execution_count": 48,
   "id": "11d726e3-637b-47c3-86e2-c0d84324b92b",
   "metadata": {},
   "outputs": [
    {
     "name": "stdout",
     "output_type": "stream",
     "text": [
      "157\n",
      "15\n"
     ]
    }
   ],
   "source": [
    "num_rows=df.shape[0]\n",
    "num_colms=df.shape[1]\n",
    "print(num_rows)\n",
    "print(num_colms)"
   ]
  },
  {
   "cell_type": "code",
   "execution_count": null,
   "id": "3bf6e8e9-ff98-4642-b55f-f89bb72b94cf",
   "metadata": {},
   "outputs": [],
   "source": [
    "4. Drop duplicate rows_if any"
   ]
  },
  {
   "cell_type": "code",
   "execution_count": null,
   "id": "b80583fb-ae0c-4a35-bbf4-cb913165f4b9",
   "metadata": {},
   "outputs": [],
   "source": [
    "df.drop_duplicates()"
   ]
  },
  {
   "cell_type": "code",
   "execution_count": null,
   "id": "158f0bb9-5d40-4c1e-9467-d9036fbd59a1",
   "metadata": {},
   "outputs": [],
   "source": [
    "5.Print number of rows and columns after dropping duplicates"
   ]
  },
  {
   "cell_type": "code",
   "execution_count": 58,
   "id": "c82a75bc-50ef-41dc-b281-3e0675a60f5d",
   "metadata": {},
   "outputs": [
    {
     "name": "stdout",
     "output_type": "stream",
     "text": [
      "157\n",
      "15\n"
     ]
    }
   ],
   "source": [
    "drop=df.drop_duplicates()\n",
    "print(drop.shape[0])\n",
    "print(drop.shape[1])\n"
   ]
  },
  {
   "cell_type": "code",
   "execution_count": null,
   "id": "37db8c97-8fb5-4642-bf46-cb45ac85635a",
   "metadata": {},
   "outputs": [],
   "source": [
    "6. Print summary statistics for numerical variables"
   ]
  },
  {
   "cell_type": "code",
   "execution_count": 60,
   "id": "07a046e7-20ff-434e-a263-7e4554d0845a",
   "metadata": {},
   "outputs": [
    {
     "name": "stdout",
     "output_type": "stream",
     "text": [
      "       Sales in thousands\n",
      "count          157.000000\n",
      "mean            52.998076\n",
      "std             68.029422\n",
      "min              0.110000\n",
      "25%             14.114000\n",
      "50%             29.450000\n",
      "75%             67.956000\n",
      "max            540.561000\n"
     ]
    }
   ],
   "source": [
    "print(df.describe())"
   ]
  },
  {
   "cell_type": "code",
   "execution_count": null,
   "id": "d2753550-7952-4d85-b528-b33a1642a0af",
   "metadata": {},
   "outputs": [],
   "source": [
    "7. Print number of missing values in each column"
   ]
  },
  {
   "cell_type": "code",
   "execution_count": 62,
   "id": "9829ce2e-1130-43bc-94d0-489bba7dc00b",
   "metadata": {},
   "outputs": [
    {
     "name": "stdout",
     "output_type": "stream",
     "text": [
      "Manufacturer           0\n",
      "Model                  0\n",
      "Sales in thousands     0\n",
      "4-year resale value    0\n",
      "Vehicle type           0\n",
      "Price in thousands     0\n",
      "Engine size            0\n",
      "Horsepower             0\n",
      "Wheelbase              0\n",
      "Width                  0\n",
      "Length                 0\n",
      "Curb weight            0\n",
      "Fuel capacity          0\n",
      "Fuel efficiency        0\n",
      "Latest Launch          0\n",
      "dtype: int64\n"
     ]
    }
   ],
   "source": [
    "print(df.isnull().sum())"
   ]
  },
  {
   "cell_type": "code",
   "execution_count": null,
   "id": "76027091-5e75-4ae9-a34d-59dff81209b8",
   "metadata": {},
   "outputs": [],
   "source": [
    "8. Drop the column with most missing values"
   ]
  },
  {
   "cell_type": "code",
   "execution_count": 118,
   "id": "1582c1d8-eaa8-41a6-b443-162fde053d6a",
   "metadata": {},
   "outputs": [
    {
     "data": {
      "text/plain": [
       "'Price in thousands'"
      ]
     },
     "execution_count": 118,
     "metadata": {},
     "output_type": "execute_result"
    }
   ],
   "source": [
    "most=df.isnull().sum().idxmax()\n",
    "df.drop(columns=[most])"
   ]
  },
  {
   "cell_type": "code",
   "execution_count": 116,
   "id": "88af27e8-952c-484e-8c3c-52c9014826e4",
   "metadata": {},
   "outputs": [
    {
     "name": "stdout",
     "output_type": "stream",
     "text": [
      "<class 'pandas.core.frame.DataFrame'>\n",
      "RangeIndex: 157 entries, 0 to 156\n",
      "Data columns (total 10 columns):\n",
      " #   Column              Non-Null Count  Dtype \n",
      "---  ------              --------------  ----- \n",
      " 0   Price in thousands  157 non-null    object\n",
      " 1   Engine size         157 non-null    object\n",
      " 2   Horsepower          157 non-null    object\n",
      " 3   Wheelbase           157 non-null    object\n",
      " 4   Width               157 non-null    object\n",
      " 5   Length              157 non-null    object\n",
      " 6   Curb weight         157 non-null    object\n",
      " 7   Fuel capacity       157 non-null    object\n",
      " 8   Fuel efficiency     157 non-null    object\n",
      " 9   Latest Launch       157 non-null    object\n",
      "dtypes: object(10)\n",
      "memory usage: 12.4+ KB\n",
      "None\n"
     ]
    }
   ],
   "source": [
    "print(df.info())"
   ]
  },
  {
   "cell_type": "code",
   "execution_count": null,
   "id": "3d34409c-7851-44d4-bf81-bff080f7db75",
   "metadata": {},
   "outputs": [],
   "source": []
  },
  {
   "cell_type": "code",
   "execution_count": 122,
   "id": "caaf5e23-3cfd-4c7c-bfea-14737c04c9d5",
   "metadata": {},
   "outputs": [
    {
     "name": "stdout",
     "output_type": "stream",
     "text": [
      "    Manufacturer              Model  Sales in thousands 4-year resale value  \\\n",
      "0  Acura          Integra                        16.919               16.36   \n",
      "1  Acura          TL                             39.384              19.875   \n",
      "2  Acura          CL                             14.114              18.225   \n",
      "3  Acura          RL                              8.588              29.725   \n",
      "4  Audi           A4                             20.397              22.255   \n",
      "\n",
      "  Vehicle type Price in thousands Engine size Horsepower Wheelbase Width  \\\n",
      "0    Passenger               21.5         1.8        140     101.2  67.3   \n",
      "1    Passenger               28.4         3.2        225     108.1  70.3   \n",
      "2    Passenger                  .         3.2        225     106.9  70.6   \n",
      "3    Passenger                 42         3.5        210     114.6  71.4   \n",
      "4    Passenger              23.99         1.8        150     102.6  68.2   \n",
      "\n",
      "  Length Curb weight Fuel capacity Fuel efficiency Latest Launch  \n",
      "0  172.4       2.639          13.2              28      2-Feb-14  \n",
      "1  192.9       3.517          17.2              25      6-Mar-15  \n",
      "2    192        3.47          17.2              26      1-Apr-14  \n",
      "3  196.6        3.85            18              22      3-Oct-15  \n",
      "4    178       2.998          16.4              27     10-Aug-15  \n"
     ]
    }
   ],
   "source": [
    "df = pd.read_csv(\"Car_sales.csv\")\n",
    "print(df.head())"
   ]
  },
  {
   "cell_type": "code",
   "execution_count": 136,
   "id": "8ed28ba4-bd37-4e2b-baa2-d37a1a7fbb6e",
   "metadata": {},
   "outputs": [
    {
     "name": "stdout",
     "output_type": "stream",
     "text": [
      "(157, 14)\n"
     ]
    }
   ],
   "source": [
    "most=df.isnull().sum().idxmax()\n",
    "df=df.drop(columns=[most])\n",
    "print(df.shape)"
   ]
  },
  {
   "cell_type": "code",
   "execution_count": 138,
   "id": "0c4d69b6-b30b-4f83-b71a-24f82d15c213",
   "metadata": {},
   "outputs": [
    {
     "name": "stdout",
     "output_type": "stream",
     "text": [
      "Missing values before:\n",
      " Model                  0\n",
      "Sales in thousands     0\n",
      "4-year resale value    0\n",
      "Vehicle type           0\n",
      "Price in thousands     0\n",
      "Engine size            0\n",
      "Horsepower             0\n",
      "Wheelbase              0\n",
      "Width                  0\n",
      "Length                 0\n",
      "Curb weight            0\n",
      "Fuel capacity          0\n",
      "Fuel efficiency        0\n",
      "Latest Launch          0\n",
      "dtype: int64\n"
     ]
    }
   ],
   "source": [
    "print(\"Missing values before:\\n\", df.isnull().sum())"
   ]
  },
  {
   "cell_type": "code",
   "execution_count": null,
   "id": "eaf76527-ade1-48c3-ab99-6d20342a2287",
   "metadata": {},
   "outputs": [],
   "source": [
    "10. Import the rows with numerical missing values"
   ]
  },
  {
   "cell_type": "code",
   "execution_count": 150,
   "id": "8773c753-22bd-4f64-bd5e-23361b5b1dd7",
   "metadata": {},
   "outputs": [
    {
     "name": "stdout",
     "output_type": "stream",
     "text": [
      "None\n"
     ]
    },
    {
     "name": "stderr",
     "output_type": "stream",
     "text": [
      "/tmp/ipykernel_7810/547930097.py:1: FutureWarning: A value is trying to be set on a copy of a DataFrame or Series through chained assignment using an inplace method.\n",
      "The behavior will change in pandas 3.0. This inplace method will never work because the intermediate object on which we are setting values always behaves as a copy.\n",
      "\n",
      "For example, when doing 'df[col].method(value, inplace=True)', try using 'df.method({col: value}, inplace=True)' or df[col] = df[col].method(value) instead, to perform the operation inplace on the original object.\n",
      "\n",
      "\n",
      "  print(df[\"Sales in thousands\"].fillna(df[\"Sales in thousands\"].mean(),inplace=True))\n"
     ]
    }
   ],
   "source": [
    "print(df[\"Sales in thousands\"].fillna(df[\"Sales in thousands\"].mean(),inplace=True))"
   ]
  },
  {
   "cell_type": "code",
   "execution_count": 144,
   "id": "08cf42d8-625c-47cc-bba3-4489bf67dfcf",
   "metadata": {},
   "outputs": [
    {
     "name": "stdout",
     "output_type": "stream",
     "text": [
      "Missing values after:\n",
      " Model                  0\n",
      "Sales in thousands     0\n",
      "4-year resale value    0\n",
      "Vehicle type           0\n",
      "Price in thousands     0\n",
      "Engine size            0\n",
      "Horsepower             0\n",
      "Wheelbase              0\n",
      "Width                  0\n",
      "Length                 0\n",
      "Curb weight            0\n",
      "Fuel capacity          0\n",
      "Fuel efficiency        0\n",
      "Latest Launch          0\n",
      "dtype: int64\n"
     ]
    }
   ],
   "source": [
    "print(\"Missing values after:\\n\", df.isnull().sum())"
   ]
  },
  {
   "cell_type": "code",
   "execution_count": 146,
   "id": "e789c0f3-7a34-42b7-9e16-8e7cb80ed73d",
   "metadata": {},
   "outputs": [
    {
     "name": "stdout",
     "output_type": "stream",
     "text": [
      "               Model  Sales in thousands 4-year resale value Vehicle type  \\\n",
      "0  Integra                        16.919               16.36    Passenger   \n",
      "1  TL                             39.384              19.875    Passenger   \n",
      "2  CL                             14.114              18.225    Passenger   \n",
      "3  RL                              8.588              29.725    Passenger   \n",
      "4  A4                             20.397              22.255    Passenger   \n",
      "\n",
      "  Price in thousands Engine size Horsepower Wheelbase Width Length  \\\n",
      "0               21.5         1.8        140     101.2  67.3  172.4   \n",
      "1               28.4         3.2        225     108.1  70.3  192.9   \n",
      "2                  .         3.2        225     106.9  70.6    192   \n",
      "3                 42         3.5        210     114.6  71.4  196.6   \n",
      "4              23.99         1.8        150     102.6  68.2    178   \n",
      "\n",
      "  Curb weight Fuel capacity Fuel efficiency Latest Launch  \n",
      "0       2.639          13.2              28      2-Feb-14  \n",
      "1       3.517          17.2              25      6-Mar-15  \n",
      "2        3.47          17.2              26      1-Apr-14  \n",
      "3        3.85            18              22      3-Oct-15  \n",
      "4       2.998          16.4              27     10-Aug-15  \n"
     ]
    }
   ],
   "source": [
    "print(df.head())"
   ]
  },
  {
   "cell_type": "code",
   "execution_count": null,
   "id": "d665b113-4d44-4599-bea1-0da02b14aa53",
   "metadata": {},
   "outputs": [],
   "source": [
    "12. Write a function to find min and max values of any column"
   ]
  },
  {
   "cell_type": "code",
   "execution_count": 166,
   "id": "edc386dd-f9f3-4553-8eb2-80aaa72759f7",
   "metadata": {},
   "outputs": [
    {
     "name": "stdout",
     "output_type": "stream",
     "text": [
      "0.11\n",
      "540.561\n"
     ]
    }
   ],
   "source": [
    "min_value=df[\"Sales in thousands\"].min()\n",
    "max_value=df[\"Sales in thousands\"].max()\n",
    "print(min_value)\n",
    "print(max_value)"
   ]
  },
  {
   "cell_type": "code",
   "execution_count": 170,
   "id": "42fe2820-fae2-4f20-9f68-76424b3757ec",
   "metadata": {},
   "outputs": [
    {
     "name": "stdout",
     "output_type": "stream",
     "text": [
      "Model                  0\n",
      "Sales in thousands     0\n",
      "4-year resale value    0\n",
      "Vehicle type           0\n",
      "Price in thousands     0\n",
      "Engine size            0\n",
      "Horsepower             0\n",
      "Wheelbase              0\n",
      "Width                  0\n",
      "Length                 0\n",
      "Curb weight            0\n",
      "Fuel capacity          0\n",
      "Fuel efficiency        0\n",
      "Latest Launch          0\n",
      "dtype: int64\n"
     ]
    }
   ],
   "source": [
    "print(df.isnull().sum())"
   ]
  },
  {
   "cell_type": "code",
   "execution_count": 172,
   "id": "27f8af8d-37fd-4e9c-b058-07117082eb75",
   "metadata": {},
   "outputs": [
    {
     "name": "stdout",
     "output_type": "stream",
     "text": [
      "Model                   0\n",
      "Sales in thousands      0\n",
      "4-year resale value    36\n",
      "Vehicle type            0\n",
      "Price in thousands      2\n",
      "Engine size             1\n",
      "Horsepower              1\n",
      "Wheelbase               1\n",
      "Width                   1\n",
      "Length                  1\n",
      "Curb weight             2\n",
      "Fuel capacity           1\n",
      "Fuel efficiency         3\n",
      "Latest Launch           0\n",
      "dtype: int64\n"
     ]
    }
   ],
   "source": [
    "import numpy as np\n",
    "df=df.replace('.',np.nan)\n",
    "print(df.isnull().sum())"
   ]
  },
  {
   "cell_type": "code",
   "execution_count": null,
   "id": "2bcccf88-f459-4b85-938f-afb3b399108e",
   "metadata": {},
   "outputs": [],
   "source": []
  },
  {
   "cell_type": "code",
   "execution_count": 179,
   "id": "16a076f6-1995-455f-9f08-f2577a41cbcc",
   "metadata": {},
   "outputs": [
    {
     "name": "stdout",
     "output_type": "stream",
     "text": [
      "    Manufacturer              Model  Sales in thousands 4-year resale value  \\\n",
      "0  Acura          Integra                        16.919               16.36   \n",
      "1  Acura          TL                             39.384              19.875   \n",
      "2  Acura          CL                             14.114              18.225   \n",
      "3  Acura          RL                              8.588              29.725   \n",
      "4  Audi           A4                             20.397              22.255   \n",
      "\n",
      "  Vehicle type Price in thousands Engine size Horsepower Wheelbase Width  \\\n",
      "0    Passenger               21.5         1.8        140     101.2  67.3   \n",
      "1    Passenger               28.4         3.2        225     108.1  70.3   \n",
      "2    Passenger                  .         3.2        225     106.9  70.6   \n",
      "3    Passenger                 42         3.5        210     114.6  71.4   \n",
      "4    Passenger              23.99         1.8        150     102.6  68.2   \n",
      "\n",
      "  Length Curb weight Fuel capacity Fuel efficiency Latest Launch  \n",
      "0  172.4       2.639          13.2              28      2-Feb-14  \n",
      "1  192.9       3.517          17.2              25      6-Mar-15  \n",
      "2    192        3.47          17.2              26      1-Apr-14  \n",
      "3  196.6        3.85            18              22      3-Oct-15  \n",
      "4    178       2.998          16.4              27     10-Aug-15  \n"
     ]
    }
   ],
   "source": [
    "\n",
    "df=pd.read_csv(\"Car_sales.csv\")\n",
    "print(df.head())"
   ]
  },
  {
   "cell_type": "code",
   "execution_count": 183,
   "id": "c73086d2-931d-4121-bc78-81eb3f8cd076",
   "metadata": {},
   "outputs": [
    {
     "name": "stdout",
     "output_type": "stream",
     "text": [
      "Manufacturer           0\n",
      "Model                  0\n",
      "Sales in thousands     0\n",
      "4-year resale value    0\n",
      "Vehicle type           0\n",
      "Price in thousands     0\n",
      "Engine size            0\n",
      "Horsepower             0\n",
      "Wheelbase              0\n",
      "Width                  0\n",
      "Length                 0\n",
      "Curb weight            0\n",
      "Fuel capacity          0\n",
      "Fuel efficiency        0\n",
      "Latest Launch          0\n",
      "dtype: int64\n"
     ]
    }
   ],
   "source": [
    "print(df.isnull().sum())"
   ]
  },
  {
   "cell_type": "code",
   "execution_count": 189,
   "id": "7422a059-ee3a-4097-a2ca-5ee96c5e687e",
   "metadata": {},
   "outputs": [
    {
     "name": "stdout",
     "output_type": "stream",
     "text": [
      "Manufacturer            0\n",
      "Model                   0\n",
      "Sales in thousands      0\n",
      "4-year resale value    36\n",
      "Vehicle type            0\n",
      "Price in thousands      2\n",
      "Engine size             1\n",
      "Horsepower              1\n",
      "Wheelbase               1\n",
      "Width                   1\n",
      "Length                  1\n",
      "Curb weight             2\n",
      "Fuel capacity           1\n",
      "Fuel efficiency         3\n",
      "Latest Launch           0\n",
      "dtype: int64\n"
     ]
    }
   ],
   "source": [
    "import numpy as np\n",
    "df=df.replace('.',np.nan)\n",
    "print(df.isnull().sum())"
   ]
  },
  {
   "cell_type": "code",
   "execution_count": null,
   "id": "ceef0bfb-6c15-4631-a08a-174ac163675e",
   "metadata": {},
   "outputs": [],
   "source": [
    "1.Read top five values"
   ]
  },
  {
   "cell_type": "code",
   "execution_count": 191,
   "id": "90512850-4d13-4419-a68f-8ee786117c76",
   "metadata": {},
   "outputs": [
    {
     "name": "stdout",
     "output_type": "stream",
     "text": [
      "    Manufacturer              Model  Sales in thousands 4-year resale value  \\\n",
      "0  Acura          Integra                        16.919               16.36   \n",
      "1  Acura          TL                             39.384              19.875   \n",
      "2  Acura          CL                             14.114              18.225   \n",
      "3  Acura          RL                              8.588              29.725   \n",
      "4  Audi           A4                             20.397              22.255   \n",
      "\n",
      "  Vehicle type Price in thousands Engine size Horsepower Wheelbase Width  \\\n",
      "0    Passenger               21.5         1.8        140     101.2  67.3   \n",
      "1    Passenger               28.4         3.2        225     108.1  70.3   \n",
      "2    Passenger                  .         3.2        225     106.9  70.6   \n",
      "3    Passenger                 42         3.5        210     114.6  71.4   \n",
      "4    Passenger              23.99         1.8        150     102.6  68.2   \n",
      "\n",
      "  Length Curb weight Fuel capacity Fuel efficiency Latest Launch  \n",
      "0  172.4       2.639          13.2              28      2-Feb-14  \n",
      "1  192.9       3.517          17.2              25      6-Mar-15  \n",
      "2    192        3.47          17.2              26      1-Apr-14  \n",
      "3  196.6        3.85            18              22      3-Oct-15  \n",
      "4    178       2.998          16.4              27     10-Aug-15  \n"
     ]
    }
   ],
   "source": [
    "import pandas as pd\n",
    "df=pd.read_csv(\"Car_sales.csv\")\n",
    "print(df.head())"
   ]
  },
  {
   "cell_type": "code",
   "execution_count": null,
   "id": "9a673656-ef3a-47ec-b084-0d514e5ee33c",
   "metadata": {},
   "outputs": [],
   "source": [
    "2. Print dataframe info_data types of each column"
   ]
  },
  {
   "cell_type": "code",
   "execution_count": 193,
   "id": "46add3f7-d098-4fe6-bbf5-3a390fa59d08",
   "metadata": {},
   "outputs": [
    {
     "name": "stdout",
     "output_type": "stream",
     "text": [
      "<class 'pandas.core.frame.DataFrame'>\n",
      "RangeIndex: 157 entries, 0 to 156\n",
      "Data columns (total 15 columns):\n",
      " #   Column               Non-Null Count  Dtype  \n",
      "---  ------               --------------  -----  \n",
      " 0   Manufacturer         157 non-null    object \n",
      " 1   Model                157 non-null    object \n",
      " 2   Sales in thousands   157 non-null    float64\n",
      " 3   4-year resale value  157 non-null    object \n",
      " 4   Vehicle type         157 non-null    object \n",
      " 5   Price in thousands   157 non-null    object \n",
      " 6   Engine size          157 non-null    object \n",
      " 7   Horsepower           157 non-null    object \n",
      " 8   Wheelbase            157 non-null    object \n",
      " 9   Width                157 non-null    object \n",
      " 10  Length               157 non-null    object \n",
      " 11  Curb weight          157 non-null    object \n",
      " 12  Fuel capacity        157 non-null    object \n",
      " 13  Fuel efficiency      157 non-null    object \n",
      " 14  Latest Launch        157 non-null    object \n",
      "dtypes: float64(1), object(14)\n",
      "memory usage: 18.5+ KB\n",
      "None\n"
     ]
    }
   ],
   "source": [
    "print(df.info())"
   ]
  },
  {
   "cell_type": "code",
   "execution_count": null,
   "id": "47479cb3-3ee2-4c67-949a-42673a2541af",
   "metadata": {},
   "outputs": [],
   "source": [
    "3. Print number of rows and columns"
   ]
  },
  {
   "cell_type": "code",
   "execution_count": 195,
   "id": "5f0f22a5-7b45-4871-a602-c90b5a2ae393",
   "metadata": {},
   "outputs": [
    {
     "name": "stdout",
     "output_type": "stream",
     "text": [
      "number of rows 157\n",
      "number of colums 15\n"
     ]
    }
   ],
   "source": [
    "num_rows,num_colms=df.shape\n",
    "print(\"number of rows\",num_rows)\n",
    "print(\"number of colums\",num_colms)\n"
   ]
  },
  {
   "cell_type": "code",
   "execution_count": 197,
   "id": "e1287413-fa28-490c-a574-e7eaf001b401",
   "metadata": {},
   "outputs": [
    {
     "name": "stdout",
     "output_type": "stream",
     "text": [
      "157\n",
      "15\n"
     ]
    }
   ],
   "source": [
    "num_rows=df.shape[0]\n",
    "num_colms=df.shape[1]\n",
    "print(num_rows)\n",
    "print(num_colms)"
   ]
  },
  {
   "cell_type": "code",
   "execution_count": null,
   "id": "5e91fde2-9d5e-4f87-9e7b-9ead7e02944e",
   "metadata": {},
   "outputs": [],
   "source": [
    "4. Drop duplicate rows_if any"
   ]
  },
  {
   "cell_type": "code",
   "execution_count": 199,
   "id": "0bf8f859-d342-4ce4-9816-e86013d58e3c",
   "metadata": {},
   "outputs": [
    {
     "data": {
      "text/html": [
       "<div>\n",
       "<style scoped>\n",
       "    .dataframe tbody tr th:only-of-type {\n",
       "        vertical-align: middle;\n",
       "    }\n",
       "\n",
       "    .dataframe tbody tr th {\n",
       "        vertical-align: top;\n",
       "    }\n",
       "\n",
       "    .dataframe thead th {\n",
       "        text-align: right;\n",
       "    }\n",
       "</style>\n",
       "<table border=\"1\" class=\"dataframe\">\n",
       "  <thead>\n",
       "    <tr style=\"text-align: right;\">\n",
       "      <th></th>\n",
       "      <th>Manufacturer</th>\n",
       "      <th>Model</th>\n",
       "      <th>Sales in thousands</th>\n",
       "      <th>4-year resale value</th>\n",
       "      <th>Vehicle type</th>\n",
       "      <th>Price in thousands</th>\n",
       "      <th>Engine size</th>\n",
       "      <th>Horsepower</th>\n",
       "      <th>Wheelbase</th>\n",
       "      <th>Width</th>\n",
       "      <th>Length</th>\n",
       "      <th>Curb weight</th>\n",
       "      <th>Fuel capacity</th>\n",
       "      <th>Fuel efficiency</th>\n",
       "      <th>Latest Launch</th>\n",
       "    </tr>\n",
       "  </thead>\n",
       "  <tbody>\n",
       "    <tr>\n",
       "      <th>0</th>\n",
       "      <td>Acura</td>\n",
       "      <td>Integra</td>\n",
       "      <td>16.919</td>\n",
       "      <td>16.36</td>\n",
       "      <td>Passenger</td>\n",
       "      <td>21.5</td>\n",
       "      <td>1.8</td>\n",
       "      <td>140</td>\n",
       "      <td>101.2</td>\n",
       "      <td>67.3</td>\n",
       "      <td>172.4</td>\n",
       "      <td>2.639</td>\n",
       "      <td>13.2</td>\n",
       "      <td>28</td>\n",
       "      <td>2-Feb-14</td>\n",
       "    </tr>\n",
       "    <tr>\n",
       "      <th>1</th>\n",
       "      <td>Acura</td>\n",
       "      <td>TL</td>\n",
       "      <td>39.384</td>\n",
       "      <td>19.875</td>\n",
       "      <td>Passenger</td>\n",
       "      <td>28.4</td>\n",
       "      <td>3.2</td>\n",
       "      <td>225</td>\n",
       "      <td>108.1</td>\n",
       "      <td>70.3</td>\n",
       "      <td>192.9</td>\n",
       "      <td>3.517</td>\n",
       "      <td>17.2</td>\n",
       "      <td>25</td>\n",
       "      <td>6-Mar-15</td>\n",
       "    </tr>\n",
       "    <tr>\n",
       "      <th>2</th>\n",
       "      <td>Acura</td>\n",
       "      <td>CL</td>\n",
       "      <td>14.114</td>\n",
       "      <td>18.225</td>\n",
       "      <td>Passenger</td>\n",
       "      <td>.</td>\n",
       "      <td>3.2</td>\n",
       "      <td>225</td>\n",
       "      <td>106.9</td>\n",
       "      <td>70.6</td>\n",
       "      <td>192</td>\n",
       "      <td>3.47</td>\n",
       "      <td>17.2</td>\n",
       "      <td>26</td>\n",
       "      <td>1-Apr-14</td>\n",
       "    </tr>\n",
       "    <tr>\n",
       "      <th>3</th>\n",
       "      <td>Acura</td>\n",
       "      <td>RL</td>\n",
       "      <td>8.588</td>\n",
       "      <td>29.725</td>\n",
       "      <td>Passenger</td>\n",
       "      <td>42</td>\n",
       "      <td>3.5</td>\n",
       "      <td>210</td>\n",
       "      <td>114.6</td>\n",
       "      <td>71.4</td>\n",
       "      <td>196.6</td>\n",
       "      <td>3.85</td>\n",
       "      <td>18</td>\n",
       "      <td>22</td>\n",
       "      <td>3-Oct-15</td>\n",
       "    </tr>\n",
       "    <tr>\n",
       "      <th>4</th>\n",
       "      <td>Audi</td>\n",
       "      <td>A4</td>\n",
       "      <td>20.397</td>\n",
       "      <td>22.255</td>\n",
       "      <td>Passenger</td>\n",
       "      <td>23.99</td>\n",
       "      <td>1.8</td>\n",
       "      <td>150</td>\n",
       "      <td>102.6</td>\n",
       "      <td>68.2</td>\n",
       "      <td>178</td>\n",
       "      <td>2.998</td>\n",
       "      <td>16.4</td>\n",
       "      <td>27</td>\n",
       "      <td>10-Aug-15</td>\n",
       "    </tr>\n",
       "    <tr>\n",
       "      <th>...</th>\n",
       "      <td>...</td>\n",
       "      <td>...</td>\n",
       "      <td>...</td>\n",
       "      <td>...</td>\n",
       "      <td>...</td>\n",
       "      <td>...</td>\n",
       "      <td>...</td>\n",
       "      <td>...</td>\n",
       "      <td>...</td>\n",
       "      <td>...</td>\n",
       "      <td>...</td>\n",
       "      <td>...</td>\n",
       "      <td>...</td>\n",
       "      <td>...</td>\n",
       "      <td>...</td>\n",
       "    </tr>\n",
       "    <tr>\n",
       "      <th>152</th>\n",
       "      <td>Volvo</td>\n",
       "      <td>V40</td>\n",
       "      <td>3.545</td>\n",
       "      <td>.</td>\n",
       "      <td>Passenger</td>\n",
       "      <td>24.4</td>\n",
       "      <td>1.9</td>\n",
       "      <td>160</td>\n",
       "      <td>100.5</td>\n",
       "      <td>67.6</td>\n",
       "      <td>176.6</td>\n",
       "      <td>3.042</td>\n",
       "      <td>15.8</td>\n",
       "      <td>25</td>\n",
       "      <td>21-Sep-15</td>\n",
       "    </tr>\n",
       "    <tr>\n",
       "      <th>153</th>\n",
       "      <td>Volvo</td>\n",
       "      <td>S70</td>\n",
       "      <td>15.245</td>\n",
       "      <td>.</td>\n",
       "      <td>Passenger</td>\n",
       "      <td>27.5</td>\n",
       "      <td>2.4</td>\n",
       "      <td>168</td>\n",
       "      <td>104.9</td>\n",
       "      <td>69.3</td>\n",
       "      <td>185.9</td>\n",
       "      <td>3.208</td>\n",
       "      <td>17.9</td>\n",
       "      <td>25</td>\n",
       "      <td>24-Nov-14</td>\n",
       "    </tr>\n",
       "    <tr>\n",
       "      <th>154</th>\n",
       "      <td>Volvo</td>\n",
       "      <td>V70</td>\n",
       "      <td>17.531</td>\n",
       "      <td>.</td>\n",
       "      <td>Passenger</td>\n",
       "      <td>28.8</td>\n",
       "      <td>2.4</td>\n",
       "      <td>168</td>\n",
       "      <td>104.9</td>\n",
       "      <td>69.3</td>\n",
       "      <td>186.2</td>\n",
       "      <td>3.259</td>\n",
       "      <td>17.9</td>\n",
       "      <td>25</td>\n",
       "      <td>25-Jun-15</td>\n",
       "    </tr>\n",
       "    <tr>\n",
       "      <th>155</th>\n",
       "      <td>Volvo</td>\n",
       "      <td>C70</td>\n",
       "      <td>3.493</td>\n",
       "      <td>.</td>\n",
       "      <td>Passenger</td>\n",
       "      <td>45.5</td>\n",
       "      <td>2.3</td>\n",
       "      <td>236</td>\n",
       "      <td>104.9</td>\n",
       "      <td>71.5</td>\n",
       "      <td>185.7</td>\n",
       "      <td>3.601</td>\n",
       "      <td>18.5</td>\n",
       "      <td>23</td>\n",
       "      <td>26-Apr-15</td>\n",
       "    </tr>\n",
       "    <tr>\n",
       "      <th>156</th>\n",
       "      <td>Volvo</td>\n",
       "      <td>S80</td>\n",
       "      <td>18.969</td>\n",
       "      <td>.</td>\n",
       "      <td>Passenger</td>\n",
       "      <td>36</td>\n",
       "      <td>2.9</td>\n",
       "      <td>201</td>\n",
       "      <td>109.9</td>\n",
       "      <td>72.1</td>\n",
       "      <td>189.8</td>\n",
       "      <td>3.6</td>\n",
       "      <td>21.1</td>\n",
       "      <td>24</td>\n",
       "      <td>14-Nov-15</td>\n",
       "    </tr>\n",
       "  </tbody>\n",
       "</table>\n",
       "<p>157 rows × 15 columns</p>\n",
       "</div>"
      ],
      "text/plain": [
       "      Manufacturer              Model  Sales in thousands 4-year resale value  \\\n",
       "0    Acura          Integra                        16.919               16.36   \n",
       "1    Acura          TL                             39.384              19.875   \n",
       "2    Acura          CL                             14.114              18.225   \n",
       "3    Acura          RL                              8.588              29.725   \n",
       "4    Audi           A4                             20.397              22.255   \n",
       "..             ...                ...                 ...                 ...   \n",
       "152  Volvo          V40                             3.545                   .   \n",
       "153  Volvo          S70                            15.245                   .   \n",
       "154  Volvo          V70                            17.531                   .   \n",
       "155  Volvo          C70                             3.493                   .   \n",
       "156  Volvo          S80                            18.969                   .   \n",
       "\n",
       "    Vehicle type Price in thousands Engine size Horsepower Wheelbase Width  \\\n",
       "0      Passenger               21.5         1.8        140     101.2  67.3   \n",
       "1      Passenger               28.4         3.2        225     108.1  70.3   \n",
       "2      Passenger                  .         3.2        225     106.9  70.6   \n",
       "3      Passenger                 42         3.5        210     114.6  71.4   \n",
       "4      Passenger              23.99         1.8        150     102.6  68.2   \n",
       "..           ...                ...         ...        ...       ...   ...   \n",
       "152    Passenger               24.4         1.9        160     100.5  67.6   \n",
       "153    Passenger               27.5         2.4        168     104.9  69.3   \n",
       "154    Passenger               28.8         2.4        168     104.9  69.3   \n",
       "155    Passenger               45.5         2.3        236     104.9  71.5   \n",
       "156    Passenger                 36         2.9        201     109.9  72.1   \n",
       "\n",
       "    Length Curb weight Fuel capacity Fuel efficiency Latest Launch  \n",
       "0    172.4       2.639          13.2              28      2-Feb-14  \n",
       "1    192.9       3.517          17.2              25      6-Mar-15  \n",
       "2      192        3.47          17.2              26      1-Apr-14  \n",
       "3    196.6        3.85            18              22      3-Oct-15  \n",
       "4      178       2.998          16.4              27     10-Aug-15  \n",
       "..     ...         ...           ...             ...           ...  \n",
       "152  176.6       3.042          15.8              25     21-Sep-15  \n",
       "153  185.9       3.208          17.9              25     24-Nov-14  \n",
       "154  186.2       3.259          17.9              25     25-Jun-15  \n",
       "155  185.7       3.601          18.5              23     26-Apr-15  \n",
       "156  189.8         3.6          21.1              24     14-Nov-15  \n",
       "\n",
       "[157 rows x 15 columns]"
      ]
     },
     "execution_count": 199,
     "metadata": {},
     "output_type": "execute_result"
    }
   ],
   "source": [
    "df.drop_duplicates()"
   ]
  },
  {
   "cell_type": "code",
   "execution_count": null,
   "id": "c38abc04-7e57-4206-92cf-39c7300b3b5e",
   "metadata": {},
   "outputs": [],
   "source": [
    "5. Print number of rows and columns after dropping\n",
    "duplicates"
   ]
  },
  {
   "cell_type": "code",
   "execution_count": 201,
   "id": "30cff7bd-e33d-497d-acb8-5430c78494a7",
   "metadata": {},
   "outputs": [
    {
     "name": "stdout",
     "output_type": "stream",
     "text": [
      "157\n",
      "15\n"
     ]
    }
   ],
   "source": [
    "drop=df.drop_duplicates()\n",
    "print(drop.shape[0])\n",
    "print(drop.shape[1])\n"
   ]
  },
  {
   "cell_type": "code",
   "execution_count": null,
   "id": "ca166222-c2b8-4c5d-8133-464983efa2a0",
   "metadata": {},
   "outputs": [],
   "source": [
    "6. Print summary statistics for numerical variables"
   ]
  },
  {
   "cell_type": "code",
   "execution_count": 203,
   "id": "4c23be42-7261-436d-83a1-ff7b195e80d7",
   "metadata": {},
   "outputs": [
    {
     "name": "stdout",
     "output_type": "stream",
     "text": [
      "       Sales in thousands\n",
      "count          157.000000\n",
      "mean            52.998076\n",
      "std             68.029422\n",
      "min              0.110000\n",
      "25%             14.114000\n",
      "50%             29.450000\n",
      "75%             67.956000\n",
      "max            540.561000\n"
     ]
    }
   ],
   "source": [
    "print(df.describe())"
   ]
  },
  {
   "cell_type": "code",
   "execution_count": null,
   "id": "e622749a-459c-4b9c-afc8-b2b955dc740b",
   "metadata": {},
   "outputs": [],
   "source": [
    "7. Print number of missing values in each column"
   ]
  },
  {
   "cell_type": "code",
   "execution_count": 205,
   "id": "10f12877-dc45-42df-83df-c121e50e4732",
   "metadata": {},
   "outputs": [
    {
     "name": "stdout",
     "output_type": "stream",
     "text": [
      "Manufacturer           0\n",
      "Model                  0\n",
      "Sales in thousands     0\n",
      "4-year resale value    0\n",
      "Vehicle type           0\n",
      "Price in thousands     0\n",
      "Engine size            0\n",
      "Horsepower             0\n",
      "Wheelbase              0\n",
      "Width                  0\n",
      "Length                 0\n",
      "Curb weight            0\n",
      "Fuel capacity          0\n",
      "Fuel efficiency        0\n",
      "Latest Launch          0\n",
      "dtype: int64\n"
     ]
    }
   ],
   "source": [
    "print(df.isnull().sum())"
   ]
  },
  {
   "cell_type": "code",
   "execution_count": null,
   "id": "8855a0f7-3ee7-4167-9ce5-d5dfccaf3c20",
   "metadata": {},
   "outputs": [],
   "source": [
    "8. Drop the column with most missing values"
   ]
  },
  {
   "cell_type": "code",
   "execution_count": 207,
   "id": "5b1dc900-220f-4716-bcb6-58a29296eb91",
   "metadata": {},
   "outputs": [
    {
     "data": {
      "text/html": [
       "<div>\n",
       "<style scoped>\n",
       "    .dataframe tbody tr th:only-of-type {\n",
       "        vertical-align: middle;\n",
       "    }\n",
       "\n",
       "    .dataframe tbody tr th {\n",
       "        vertical-align: top;\n",
       "    }\n",
       "\n",
       "    .dataframe thead th {\n",
       "        text-align: right;\n",
       "    }\n",
       "</style>\n",
       "<table border=\"1\" class=\"dataframe\">\n",
       "  <thead>\n",
       "    <tr style=\"text-align: right;\">\n",
       "      <th></th>\n",
       "      <th>Model</th>\n",
       "      <th>Sales in thousands</th>\n",
       "      <th>4-year resale value</th>\n",
       "      <th>Vehicle type</th>\n",
       "      <th>Price in thousands</th>\n",
       "      <th>Engine size</th>\n",
       "      <th>Horsepower</th>\n",
       "      <th>Wheelbase</th>\n",
       "      <th>Width</th>\n",
       "      <th>Length</th>\n",
       "      <th>Curb weight</th>\n",
       "      <th>Fuel capacity</th>\n",
       "      <th>Fuel efficiency</th>\n",
       "      <th>Latest Launch</th>\n",
       "    </tr>\n",
       "  </thead>\n",
       "  <tbody>\n",
       "    <tr>\n",
       "      <th>0</th>\n",
       "      <td>Integra</td>\n",
       "      <td>16.919</td>\n",
       "      <td>16.36</td>\n",
       "      <td>Passenger</td>\n",
       "      <td>21.5</td>\n",
       "      <td>1.8</td>\n",
       "      <td>140</td>\n",
       "      <td>101.2</td>\n",
       "      <td>67.3</td>\n",
       "      <td>172.4</td>\n",
       "      <td>2.639</td>\n",
       "      <td>13.2</td>\n",
       "      <td>28</td>\n",
       "      <td>2-Feb-14</td>\n",
       "    </tr>\n",
       "    <tr>\n",
       "      <th>1</th>\n",
       "      <td>TL</td>\n",
       "      <td>39.384</td>\n",
       "      <td>19.875</td>\n",
       "      <td>Passenger</td>\n",
       "      <td>28.4</td>\n",
       "      <td>3.2</td>\n",
       "      <td>225</td>\n",
       "      <td>108.1</td>\n",
       "      <td>70.3</td>\n",
       "      <td>192.9</td>\n",
       "      <td>3.517</td>\n",
       "      <td>17.2</td>\n",
       "      <td>25</td>\n",
       "      <td>6-Mar-15</td>\n",
       "    </tr>\n",
       "    <tr>\n",
       "      <th>2</th>\n",
       "      <td>CL</td>\n",
       "      <td>14.114</td>\n",
       "      <td>18.225</td>\n",
       "      <td>Passenger</td>\n",
       "      <td>.</td>\n",
       "      <td>3.2</td>\n",
       "      <td>225</td>\n",
       "      <td>106.9</td>\n",
       "      <td>70.6</td>\n",
       "      <td>192</td>\n",
       "      <td>3.47</td>\n",
       "      <td>17.2</td>\n",
       "      <td>26</td>\n",
       "      <td>1-Apr-14</td>\n",
       "    </tr>\n",
       "    <tr>\n",
       "      <th>3</th>\n",
       "      <td>RL</td>\n",
       "      <td>8.588</td>\n",
       "      <td>29.725</td>\n",
       "      <td>Passenger</td>\n",
       "      <td>42</td>\n",
       "      <td>3.5</td>\n",
       "      <td>210</td>\n",
       "      <td>114.6</td>\n",
       "      <td>71.4</td>\n",
       "      <td>196.6</td>\n",
       "      <td>3.85</td>\n",
       "      <td>18</td>\n",
       "      <td>22</td>\n",
       "      <td>3-Oct-15</td>\n",
       "    </tr>\n",
       "    <tr>\n",
       "      <th>4</th>\n",
       "      <td>A4</td>\n",
       "      <td>20.397</td>\n",
       "      <td>22.255</td>\n",
       "      <td>Passenger</td>\n",
       "      <td>23.99</td>\n",
       "      <td>1.8</td>\n",
       "      <td>150</td>\n",
       "      <td>102.6</td>\n",
       "      <td>68.2</td>\n",
       "      <td>178</td>\n",
       "      <td>2.998</td>\n",
       "      <td>16.4</td>\n",
       "      <td>27</td>\n",
       "      <td>10-Aug-15</td>\n",
       "    </tr>\n",
       "    <tr>\n",
       "      <th>...</th>\n",
       "      <td>...</td>\n",
       "      <td>...</td>\n",
       "      <td>...</td>\n",
       "      <td>...</td>\n",
       "      <td>...</td>\n",
       "      <td>...</td>\n",
       "      <td>...</td>\n",
       "      <td>...</td>\n",
       "      <td>...</td>\n",
       "      <td>...</td>\n",
       "      <td>...</td>\n",
       "      <td>...</td>\n",
       "      <td>...</td>\n",
       "      <td>...</td>\n",
       "    </tr>\n",
       "    <tr>\n",
       "      <th>152</th>\n",
       "      <td>V40</td>\n",
       "      <td>3.545</td>\n",
       "      <td>.</td>\n",
       "      <td>Passenger</td>\n",
       "      <td>24.4</td>\n",
       "      <td>1.9</td>\n",
       "      <td>160</td>\n",
       "      <td>100.5</td>\n",
       "      <td>67.6</td>\n",
       "      <td>176.6</td>\n",
       "      <td>3.042</td>\n",
       "      <td>15.8</td>\n",
       "      <td>25</td>\n",
       "      <td>21-Sep-15</td>\n",
       "    </tr>\n",
       "    <tr>\n",
       "      <th>153</th>\n",
       "      <td>S70</td>\n",
       "      <td>15.245</td>\n",
       "      <td>.</td>\n",
       "      <td>Passenger</td>\n",
       "      <td>27.5</td>\n",
       "      <td>2.4</td>\n",
       "      <td>168</td>\n",
       "      <td>104.9</td>\n",
       "      <td>69.3</td>\n",
       "      <td>185.9</td>\n",
       "      <td>3.208</td>\n",
       "      <td>17.9</td>\n",
       "      <td>25</td>\n",
       "      <td>24-Nov-14</td>\n",
       "    </tr>\n",
       "    <tr>\n",
       "      <th>154</th>\n",
       "      <td>V70</td>\n",
       "      <td>17.531</td>\n",
       "      <td>.</td>\n",
       "      <td>Passenger</td>\n",
       "      <td>28.8</td>\n",
       "      <td>2.4</td>\n",
       "      <td>168</td>\n",
       "      <td>104.9</td>\n",
       "      <td>69.3</td>\n",
       "      <td>186.2</td>\n",
       "      <td>3.259</td>\n",
       "      <td>17.9</td>\n",
       "      <td>25</td>\n",
       "      <td>25-Jun-15</td>\n",
       "    </tr>\n",
       "    <tr>\n",
       "      <th>155</th>\n",
       "      <td>C70</td>\n",
       "      <td>3.493</td>\n",
       "      <td>.</td>\n",
       "      <td>Passenger</td>\n",
       "      <td>45.5</td>\n",
       "      <td>2.3</td>\n",
       "      <td>236</td>\n",
       "      <td>104.9</td>\n",
       "      <td>71.5</td>\n",
       "      <td>185.7</td>\n",
       "      <td>3.601</td>\n",
       "      <td>18.5</td>\n",
       "      <td>23</td>\n",
       "      <td>26-Apr-15</td>\n",
       "    </tr>\n",
       "    <tr>\n",
       "      <th>156</th>\n",
       "      <td>S80</td>\n",
       "      <td>18.969</td>\n",
       "      <td>.</td>\n",
       "      <td>Passenger</td>\n",
       "      <td>36</td>\n",
       "      <td>2.9</td>\n",
       "      <td>201</td>\n",
       "      <td>109.9</td>\n",
       "      <td>72.1</td>\n",
       "      <td>189.8</td>\n",
       "      <td>3.6</td>\n",
       "      <td>21.1</td>\n",
       "      <td>24</td>\n",
       "      <td>14-Nov-15</td>\n",
       "    </tr>\n",
       "  </tbody>\n",
       "</table>\n",
       "<p>157 rows × 14 columns</p>\n",
       "</div>"
      ],
      "text/plain": [
       "                 Model  Sales in thousands 4-year resale value Vehicle type  \\\n",
       "0    Integra                        16.919               16.36    Passenger   \n",
       "1    TL                             39.384              19.875    Passenger   \n",
       "2    CL                             14.114              18.225    Passenger   \n",
       "3    RL                              8.588              29.725    Passenger   \n",
       "4    A4                             20.397              22.255    Passenger   \n",
       "..                 ...                 ...                 ...          ...   \n",
       "152  V40                             3.545                   .    Passenger   \n",
       "153  S70                            15.245                   .    Passenger   \n",
       "154  V70                            17.531                   .    Passenger   \n",
       "155  C70                             3.493                   .    Passenger   \n",
       "156  S80                            18.969                   .    Passenger   \n",
       "\n",
       "    Price in thousands Engine size Horsepower Wheelbase Width Length  \\\n",
       "0                 21.5         1.8        140     101.2  67.3  172.4   \n",
       "1                 28.4         3.2        225     108.1  70.3  192.9   \n",
       "2                    .         3.2        225     106.9  70.6    192   \n",
       "3                   42         3.5        210     114.6  71.4  196.6   \n",
       "4                23.99         1.8        150     102.6  68.2    178   \n",
       "..                 ...         ...        ...       ...   ...    ...   \n",
       "152               24.4         1.9        160     100.5  67.6  176.6   \n",
       "153               27.5         2.4        168     104.9  69.3  185.9   \n",
       "154               28.8         2.4        168     104.9  69.3  186.2   \n",
       "155               45.5         2.3        236     104.9  71.5  185.7   \n",
       "156                 36         2.9        201     109.9  72.1  189.8   \n",
       "\n",
       "    Curb weight Fuel capacity Fuel efficiency Latest Launch  \n",
       "0         2.639          13.2              28      2-Feb-14  \n",
       "1         3.517          17.2              25      6-Mar-15  \n",
       "2          3.47          17.2              26      1-Apr-14  \n",
       "3          3.85            18              22      3-Oct-15  \n",
       "4         2.998          16.4              27     10-Aug-15  \n",
       "..          ...           ...             ...           ...  \n",
       "152       3.042          15.8              25     21-Sep-15  \n",
       "153       3.208          17.9              25     24-Nov-14  \n",
       "154       3.259          17.9              25     25-Jun-15  \n",
       "155       3.601          18.5              23     26-Apr-15  \n",
       "156         3.6          21.1              24     14-Nov-15  \n",
       "\n",
       "[157 rows x 14 columns]"
      ]
     },
     "execution_count": 207,
     "metadata": {},
     "output_type": "execute_result"
    }
   ],
   "source": [
    "most=df.isnull().sum().idxmax()\n",
    "df.drop(columns=[most])"
   ]
  },
  {
   "cell_type": "code",
   "execution_count": 209,
   "id": "a057ab31-6ad6-4227-b42a-eab16251af63",
   "metadata": {},
   "outputs": [
    {
     "name": "stdout",
     "output_type": "stream",
     "text": [
      "(157, 14)\n"
     ]
    }
   ],
   "source": [
    "most=df.isnull().sum().idxmax()\n",
    "df=df.drop(columns=[most])\n",
    "print(df.shape)"
   ]
  },
  {
   "cell_type": "code",
   "execution_count": null,
   "id": "b6be239b-c76e-42fa-8df8-a1051ad36a1c",
   "metadata": {},
   "outputs": [],
   "source": [
    "10. Import the rows with numerical missing values"
   ]
  },
  {
   "cell_type": "code",
   "execution_count": 211,
   "id": "efd4752c-9fa6-4e82-b7c4-390cc7a3e516",
   "metadata": {},
   "outputs": [
    {
     "name": "stdout",
     "output_type": "stream",
     "text": [
      "None\n"
     ]
    },
    {
     "name": "stderr",
     "output_type": "stream",
     "text": [
      "/tmp/ipykernel_7810/547930097.py:1: FutureWarning: A value is trying to be set on a copy of a DataFrame or Series through chained assignment using an inplace method.\n",
      "The behavior will change in pandas 3.0. This inplace method will never work because the intermediate object on which we are setting values always behaves as a copy.\n",
      "\n",
      "For example, when doing 'df[col].method(value, inplace=True)', try using 'df.method({col: value}, inplace=True)' or df[col] = df[col].method(value) instead, to perform the operation inplace on the original object.\n",
      "\n",
      "\n",
      "  print(df[\"Sales in thousands\"].fillna(df[\"Sales in thousands\"].mean(),inplace=True))\n"
     ]
    }
   ],
   "source": [
    "print(df[\"Sales in thousands\"].fillna(df[\"Sales in thousands\"].mean(),inplace=True))"
   ]
  },
  {
   "cell_type": "code",
   "execution_count": 213,
   "id": "d7ad7c22-f6f0-4fc2-9f07-19faca11d4f7",
   "metadata": {},
   "outputs": [
    {
     "name": "stdout",
     "output_type": "stream",
     "text": [
      "<class 'pandas.core.frame.DataFrame'>\n",
      "RangeIndex: 157 entries, 0 to 156\n",
      "Data columns (total 14 columns):\n",
      " #   Column               Non-Null Count  Dtype  \n",
      "---  ------               --------------  -----  \n",
      " 0   Model                157 non-null    object \n",
      " 1   Sales in thousands   157 non-null    float64\n",
      " 2   4-year resale value  157 non-null    object \n",
      " 3   Vehicle type         157 non-null    object \n",
      " 4   Price in thousands   157 non-null    object \n",
      " 5   Engine size          157 non-null    object \n",
      " 6   Horsepower           157 non-null    object \n",
      " 7   Wheelbase            157 non-null    object \n",
      " 8   Width                157 non-null    object \n",
      " 9   Length               157 non-null    object \n",
      " 10  Curb weight          157 non-null    object \n",
      " 11  Fuel capacity        157 non-null    object \n",
      " 12  Fuel efficiency      157 non-null    object \n",
      " 13  Latest Launch        157 non-null    object \n",
      "dtypes: float64(1), object(13)\n",
      "memory usage: 17.3+ KB\n",
      "None\n"
     ]
    }
   ],
   "source": [
    "print(df.info())"
   ]
  },
  {
   "cell_type": "code",
   "execution_count": 215,
   "id": "ff3fad49-9a84-4cb0-b997-04cbaefb9aa8",
   "metadata": {},
   "outputs": [
    {
     "name": "stdout",
     "output_type": "stream",
     "text": [
      "Model                  0\n",
      "Sales in thousands     0\n",
      "4-year resale value    0\n",
      "Vehicle type           0\n",
      "Price in thousands     0\n",
      "Engine size            0\n",
      "Horsepower             0\n",
      "Wheelbase              0\n",
      "Width                  0\n",
      "Length                 0\n",
      "Curb weight            0\n",
      "Fuel capacity          0\n",
      "Fuel efficiency        0\n",
      "Latest Launch          0\n",
      "dtype: int64\n"
     ]
    }
   ],
   "source": [
    "print(df.isnull().sum())"
   ]
  },
  {
   "cell_type": "code",
   "execution_count": 217,
   "id": "e33efef0-efc5-467b-9121-fdb9f68b7d99",
   "metadata": {},
   "outputs": [
    {
     "name": "stdout",
     "output_type": "stream",
     "text": [
      "Model                   0\n",
      "Sales in thousands      0\n",
      "4-year resale value    36\n",
      "Vehicle type            0\n",
      "Price in thousands      2\n",
      "Engine size             1\n",
      "Horsepower              1\n",
      "Wheelbase               1\n",
      "Width                   1\n",
      "Length                  1\n",
      "Curb weight             2\n",
      "Fuel capacity           1\n",
      "Fuel efficiency         3\n",
      "Latest Launch           0\n",
      "dtype: int64\n"
     ]
    }
   ],
   "source": [
    "import numpy as np\n",
    "df=df.replace('.',np.nan)\n",
    "print(df.isnull().sum())"
   ]
  },
  {
   "cell_type": "code",
   "execution_count": 219,
   "id": "d8dcd83e-cf4c-459c-817d-91189bded9bc",
   "metadata": {},
   "outputs": [
    {
     "name": "stdout",
     "output_type": "stream",
     "text": [
      "None\n"
     ]
    },
    {
     "name": "stderr",
     "output_type": "stream",
     "text": [
      "/tmp/ipykernel_7810/547930097.py:1: FutureWarning: A value is trying to be set on a copy of a DataFrame or Series through chained assignment using an inplace method.\n",
      "The behavior will change in pandas 3.0. This inplace method will never work because the intermediate object on which we are setting values always behaves as a copy.\n",
      "\n",
      "For example, when doing 'df[col].method(value, inplace=True)', try using 'df.method({col: value}, inplace=True)' or df[col] = df[col].method(value) instead, to perform the operation inplace on the original object.\n",
      "\n",
      "\n",
      "  print(df[\"Sales in thousands\"].fillna(df[\"Sales in thousands\"].mean(),inplace=True))\n"
     ]
    }
   ],
   "source": [
    "print(df[\"Sales in thousands\"].fillna(df[\"Sales in thousands\"].mean(),inplace=True))"
   ]
  },
  {
   "cell_type": "code",
   "execution_count": 221,
   "id": "86b7a6ac-9a39-466b-9606-3b1c60d182fa",
   "metadata": {},
   "outputs": [
    {
     "name": "stdout",
     "output_type": "stream",
     "text": [
      "       Sales in thousands\n",
      "count          157.000000\n",
      "mean            52.998076\n",
      "std             68.029422\n",
      "min              0.110000\n",
      "25%             14.114000\n",
      "50%             29.450000\n",
      "75%             67.956000\n",
      "max            540.561000\n"
     ]
    }
   ],
   "source": [
    "print(df.describe())"
   ]
  },
  {
   "cell_type": "code",
   "execution_count": 223,
   "id": "8c6e9c86-8d96-4d6e-8460-12fe226b9190",
   "metadata": {},
   "outputs": [
    {
     "name": "stdout",
     "output_type": "stream",
     "text": [
      "Model                   0\n",
      "Sales in thousands      0\n",
      "4-year resale value    36\n",
      "Vehicle type            0\n",
      "Price in thousands      2\n",
      "Engine size             1\n",
      "Horsepower              1\n",
      "Wheelbase               1\n",
      "Width                   1\n",
      "Length                  1\n",
      "Curb weight             2\n",
      "Fuel capacity           1\n",
      "Fuel efficiency         3\n",
      "Latest Launch           0\n",
      "dtype: int64\n"
     ]
    }
   ],
   "source": [
    "import numpy as np\n",
    "df=df.replace('.',np.nan)\n",
    "print(df.isnull().sum())"
   ]
  },
  {
   "cell_type": "code",
   "execution_count": null,
   "id": "1d04bc68-62a1-4495-b5aa-775243301b2a",
   "metadata": {},
   "outputs": [],
   "source": [
    "8. Drop the column with most missing values"
   ]
  },
  {
   "cell_type": "code",
   "execution_count": 227,
   "id": "84e3adb0-4f24-4b89-9033-a58e81814b2b",
   "metadata": {},
   "outputs": [
    {
     "name": "stdout",
     "output_type": "stream",
     "text": [
      "Fuel efficiency\n",
      "Model                 0\n",
      "Sales in thousands    0\n",
      "Vehicle type          0\n",
      "Price in thousands    2\n",
      "Engine size           1\n",
      "Horsepower            1\n",
      "Wheelbase             1\n",
      "Width                 1\n",
      "Length                1\n",
      "Curb weight           2\n",
      "Fuel capacity         1\n",
      "Latest Launch         0\n",
      "dtype: int64\n"
     ]
    }
   ],
   "source": [
    "\n",
    "most=df.isnull().sum().idxmax()\n",
    "df=df.drop(columns=[most])\n",
    "print(df.isnull().sum())"
   ]
  },
  {
   "cell_type": "code",
   "execution_count": null,
   "id": "b15a0af3-9c24-416f-9670-b2954e090b3b",
   "metadata": {},
   "outputs": [],
   "source": [
    "10. Import the rows with numerical missing values"
   ]
  },
  {
   "cell_type": "code",
   "execution_count": 229,
   "id": "3de84cca-0ead-4673-9203-209ef4ef5b08",
   "metadata": {},
   "outputs": [
    {
     "name": "stdout",
     "output_type": "stream",
     "text": [
      "None\n"
     ]
    },
    {
     "name": "stderr",
     "output_type": "stream",
     "text": [
      "/tmp/ipykernel_7810/547930097.py:1: FutureWarning: A value is trying to be set on a copy of a DataFrame or Series through chained assignment using an inplace method.\n",
      "The behavior will change in pandas 3.0. This inplace method will never work because the intermediate object on which we are setting values always behaves as a copy.\n",
      "\n",
      "For example, when doing 'df[col].method(value, inplace=True)', try using 'df.method({col: value}, inplace=True)' or df[col] = df[col].method(value) instead, to perform the operation inplace on the original object.\n",
      "\n",
      "\n",
      "  print(df[\"Sales in thousands\"].fillna(df[\"Sales in thousands\"].mean(),inplace=True))\n"
     ]
    }
   ],
   "source": [
    "print(df[\"Sales in thousands\"].fillna(df[\"Sales in thousands\"].mean(),inplace=True))"
   ]
  },
  {
   "cell_type": "code",
   "execution_count": 233,
   "id": "25674825-3c36-4199-9fa9-0ac852ba3266",
   "metadata": {},
   "outputs": [
    {
     "name": "stdout",
     "output_type": "stream",
     "text": [
      "Model                 0\n",
      "Sales in thousands    0\n",
      "Vehicle type          0\n",
      "Price in thousands    2\n",
      "Engine size           1\n",
      "Horsepower            1\n",
      "Wheelbase             1\n",
      "Width                 1\n",
      "Length                1\n",
      "Curb weight           2\n",
      "Fuel capacity         1\n",
      "Latest Launch         0\n",
      "dtype: int64\n"
     ]
    }
   ],
   "source": [
    "print(df.isnull().sum())"
   ]
  },
  {
   "cell_type": "code",
   "execution_count": null,
   "id": "8c864954-7863-4700-a506-5fc038f2d8fc",
   "metadata": {},
   "outputs": [],
   "source": [
    "12. Write a function to find min and max values of any\n",
    "column"
   ]
  },
  {
   "cell_type": "code",
   "execution_count": 5,
   "id": "dd3a07a1-5e32-4d36-94ec-cd87abbbf699",
   "metadata": {},
   "outputs": [
    {
     "name": "stdout",
     "output_type": "stream",
     "text": [
      "0.11\n",
      "540.561\n",
      ".\n",
      "9.699\n"
     ]
    }
   ],
   "source": [
    "import pandas as pd\n",
    "df=pd.read_csv(\"Car_sales.csv\")\n",
    "\n",
    "min_value=df[\"Sales in thousands\"].min()\n",
    "max_value=df[\"Sales in thousands\"].max()\n",
    "print(min_value)\n",
    "print(max_value)\n",
    "\n",
    "min_value1=df[\"Price in thousands\"].min()\n",
    "max_value2=df[\"Price in thousands\"].max()\n",
    "print(min_value1)\n",
    "print(max_value2)"
   ]
  },
  {
   "cell_type": "code",
   "execution_count": 237,
   "id": "fa05dff3-3122-49c3-9150-5afee46582d5",
   "metadata": {},
   "outputs": [
    {
     "ename": "AttributeError",
     "evalue": "'Series' object has no attribute 'sort'",
     "output_type": "error",
     "traceback": [
      "\u001b[0;31m---------------------------------------------------------------------------\u001b[0m",
      "\u001b[0;31mAttributeError\u001b[0m                            Traceback (most recent call last)",
      "\u001b[0;32m/tmp/ipykernel_7810/3829936611.py\u001b[0m in \u001b[0;36m?\u001b[0;34m()\u001b[0m\n\u001b[0;32m----> 1\u001b[0;31m \u001b[0msort_a\u001b[0m\u001b[0;34m=\u001b[0m\u001b[0mdf\u001b[0m\u001b[0;34m[\u001b[0m\u001b[0;34m\"Sales in thousands\"\u001b[0m\u001b[0;34m]\u001b[0m\u001b[0;34m.\u001b[0m\u001b[0msort\u001b[0m\u001b[0;34m(\u001b[0m\u001b[0;34m)\u001b[0m\u001b[0;34m\u001b[0m\u001b[0;34m\u001b[0m\u001b[0m\n\u001b[0m",
      "\u001b[0;32m~/anaconda3/lib/python3.12/site-packages/pandas/core/generic.py\u001b[0m in \u001b[0;36m?\u001b[0;34m(self, name)\u001b[0m\n\u001b[1;32m   6295\u001b[0m             \u001b[0;32mand\u001b[0m \u001b[0mname\u001b[0m \u001b[0;32mnot\u001b[0m \u001b[0;32min\u001b[0m \u001b[0mself\u001b[0m\u001b[0;34m.\u001b[0m\u001b[0m_accessors\u001b[0m\u001b[0;34m\u001b[0m\u001b[0;34m\u001b[0m\u001b[0m\n\u001b[1;32m   6296\u001b[0m             \u001b[0;32mand\u001b[0m \u001b[0mself\u001b[0m\u001b[0;34m.\u001b[0m\u001b[0m_info_axis\u001b[0m\u001b[0;34m.\u001b[0m\u001b[0m_can_hold_identifiers_and_holds_name\u001b[0m\u001b[0;34m(\u001b[0m\u001b[0mname\u001b[0m\u001b[0;34m)\u001b[0m\u001b[0;34m\u001b[0m\u001b[0;34m\u001b[0m\u001b[0m\n\u001b[1;32m   6297\u001b[0m         \u001b[0;34m)\u001b[0m\u001b[0;34m:\u001b[0m\u001b[0;34m\u001b[0m\u001b[0;34m\u001b[0m\u001b[0m\n\u001b[1;32m   6298\u001b[0m             \u001b[0;32mreturn\u001b[0m \u001b[0mself\u001b[0m\u001b[0;34m[\u001b[0m\u001b[0mname\u001b[0m\u001b[0;34m]\u001b[0m\u001b[0;34m\u001b[0m\u001b[0;34m\u001b[0m\u001b[0m\n\u001b[0;32m-> 6299\u001b[0;31m         \u001b[0;32mreturn\u001b[0m \u001b[0mobject\u001b[0m\u001b[0;34m.\u001b[0m\u001b[0m__getattribute__\u001b[0m\u001b[0;34m(\u001b[0m\u001b[0mself\u001b[0m\u001b[0;34m,\u001b[0m \u001b[0mname\u001b[0m\u001b[0;34m)\u001b[0m\u001b[0;34m\u001b[0m\u001b[0;34m\u001b[0m\u001b[0m\n\u001b[0m",
      "\u001b[0;31mAttributeError\u001b[0m: 'Series' object has no attribute 'sort'"
     ]
    }
   ],
   "source": [
    "sort_a=df[\"Sales in thousands\"].sort()"
   ]
  },
  {
   "cell_type": "code",
   "execution_count": 239,
   "id": "eb9339df-015c-4f75-9a92-079448148e39",
   "metadata": {},
   "outputs": [
    {
     "data": {
      "text/html": [
       "<div>\n",
       "<style scoped>\n",
       "    .dataframe tbody tr th:only-of-type {\n",
       "        vertical-align: middle;\n",
       "    }\n",
       "\n",
       "    .dataframe tbody tr th {\n",
       "        vertical-align: top;\n",
       "    }\n",
       "\n",
       "    .dataframe thead th {\n",
       "        text-align: right;\n",
       "    }\n",
       "</style>\n",
       "<table border=\"1\" class=\"dataframe\">\n",
       "  <thead>\n",
       "    <tr style=\"text-align: right;\">\n",
       "      <th></th>\n",
       "      <th>Model</th>\n",
       "      <th>Sales in thousands</th>\n",
       "      <th>Vehicle type</th>\n",
       "      <th>Price in thousands</th>\n",
       "      <th>Engine size</th>\n",
       "      <th>Horsepower</th>\n",
       "      <th>Wheelbase</th>\n",
       "      <th>Width</th>\n",
       "      <th>Length</th>\n",
       "      <th>Curb weight</th>\n",
       "      <th>Fuel capacity</th>\n",
       "      <th>Latest Launch</th>\n",
       "    </tr>\n",
       "  </thead>\n",
       "  <tbody>\n",
       "    <tr>\n",
       "      <th>129</th>\n",
       "      <td>SL</td>\n",
       "      <td>80.620</td>\n",
       "      <td>Passenger</td>\n",
       "      <td>10.685</td>\n",
       "      <td>1.9</td>\n",
       "      <td>100</td>\n",
       "      <td>102.4</td>\n",
       "      <td>66.4</td>\n",
       "      <td>176.9</td>\n",
       "      <td>2.332</td>\n",
       "      <td>12.1</td>\n",
       "      <td>16-Aug-14</td>\n",
       "    </tr>\n",
       "    <tr>\n",
       "      <th>140</th>\n",
       "      <td>Tacoma</td>\n",
       "      <td>84.087</td>\n",
       "      <td>Car</td>\n",
       "      <td>11.528</td>\n",
       "      <td>2.4</td>\n",
       "      <td>142</td>\n",
       "      <td>103.3</td>\n",
       "      <td>66.5</td>\n",
       "      <td>178.7</td>\n",
       "      <td>2.58</td>\n",
       "      <td>15.1</td>\n",
       "      <td>8-Jan-15</td>\n",
       "    </tr>\n",
       "    <tr>\n",
       "      <th>63</th>\n",
       "      <td>Elantra</td>\n",
       "      <td>66.692</td>\n",
       "      <td>Passenger</td>\n",
       "      <td>11.799</td>\n",
       "      <td>2</td>\n",
       "      <td>140</td>\n",
       "      <td>100.4</td>\n",
       "      <td>66.9</td>\n",
       "      <td>174</td>\n",
       "      <td>2.626</td>\n",
       "      <td>14.5</td>\n",
       "      <td>15-Nov-15</td>\n",
       "    </tr>\n",
       "    <tr>\n",
       "      <th>55</th>\n",
       "      <td>Ranger</td>\n",
       "      <td>220.650</td>\n",
       "      <td>Car</td>\n",
       "      <td>12.05</td>\n",
       "      <td>2.5</td>\n",
       "      <td>119</td>\n",
       "      <td>117.5</td>\n",
       "      <td>69.4</td>\n",
       "      <td>200.7</td>\n",
       "      <td>3.086</td>\n",
       "      <td>20</td>\n",
       "      <td>14-Jan-14</td>\n",
       "    </tr>\n",
       "    <tr>\n",
       "      <th>46</th>\n",
       "      <td>Escort</td>\n",
       "      <td>70.227</td>\n",
       "      <td>Passenger</td>\n",
       "      <td>12.07</td>\n",
       "      <td>2</td>\n",
       "      <td>110</td>\n",
       "      <td>98.4</td>\n",
       "      <td>67</td>\n",
       "      <td>174.7</td>\n",
       "      <td>2.468</td>\n",
       "      <td>12.7</td>\n",
       "      <td>31-Mar-14</td>\n",
       "    </tr>\n",
       "    <tr>\n",
       "      <th>...</th>\n",
       "      <td>...</td>\n",
       "      <td>...</td>\n",
       "      <td>...</td>\n",
       "      <td>...</td>\n",
       "      <td>...</td>\n",
       "      <td>...</td>\n",
       "      <td>...</td>\n",
       "      <td>...</td>\n",
       "      <td>...</td>\n",
       "      <td>...</td>\n",
       "      <td>...</td>\n",
       "      <td>...</td>\n",
       "    </tr>\n",
       "    <tr>\n",
       "      <th>99</th>\n",
       "      <td>CL500</td>\n",
       "      <td>0.954</td>\n",
       "      <td>Passenger</td>\n",
       "      <td>85.5</td>\n",
       "      <td>5</td>\n",
       "      <td>302</td>\n",
       "      <td>113.6</td>\n",
       "      <td>73.1</td>\n",
       "      <td>196.6</td>\n",
       "      <td>4.115</td>\n",
       "      <td>23.2</td>\n",
       "      <td>4-Nov-15</td>\n",
       "    </tr>\n",
       "    <tr>\n",
       "      <th>26</th>\n",
       "      <td>Metro</td>\n",
       "      <td>21.855</td>\n",
       "      <td>Passenger</td>\n",
       "      <td>9.235</td>\n",
       "      <td>1</td>\n",
       "      <td>55</td>\n",
       "      <td>93.1</td>\n",
       "      <td>62.6</td>\n",
       "      <td>149.4</td>\n",
       "      <td>1.895</td>\n",
       "      <td>10.3</td>\n",
       "      <td>13-Apr-14</td>\n",
       "    </tr>\n",
       "    <tr>\n",
       "      <th>62</th>\n",
       "      <td>Accent</td>\n",
       "      <td>41.184</td>\n",
       "      <td>Passenger</td>\n",
       "      <td>9.699</td>\n",
       "      <td>1.5</td>\n",
       "      <td>92</td>\n",
       "      <td>96.1</td>\n",
       "      <td>65.7</td>\n",
       "      <td>166.7</td>\n",
       "      <td>2.24</td>\n",
       "      <td>11.9</td>\n",
       "      <td>9-Oct-14</td>\n",
       "    </tr>\n",
       "    <tr>\n",
       "      <th>2</th>\n",
       "      <td>CL</td>\n",
       "      <td>14.114</td>\n",
       "      <td>Passenger</td>\n",
       "      <td>NaN</td>\n",
       "      <td>3.2</td>\n",
       "      <td>225</td>\n",
       "      <td>106.9</td>\n",
       "      <td>70.6</td>\n",
       "      <td>192</td>\n",
       "      <td>3.47</td>\n",
       "      <td>17.2</td>\n",
       "      <td>1-Apr-14</td>\n",
       "    </tr>\n",
       "    <tr>\n",
       "      <th>33</th>\n",
       "      <td>Town &amp; Country</td>\n",
       "      <td>53.480</td>\n",
       "      <td>Car</td>\n",
       "      <td>NaN</td>\n",
       "      <td>NaN</td>\n",
       "      <td>NaN</td>\n",
       "      <td>NaN</td>\n",
       "      <td>NaN</td>\n",
       "      <td>NaN</td>\n",
       "      <td>NaN</td>\n",
       "      <td>NaN</td>\n",
       "      <td>13-Jul-15</td>\n",
       "    </tr>\n",
       "  </tbody>\n",
       "</table>\n",
       "<p>157 rows × 12 columns</p>\n",
       "</div>"
      ],
      "text/plain": [
       "                 Model  Sales in thousands Vehicle type Price in thousands  \\\n",
       "129  SL                             80.620    Passenger             10.685   \n",
       "140  Tacoma                         84.087          Car             11.528   \n",
       "63   Elantra                        66.692    Passenger             11.799   \n",
       "55   Ranger                        220.650          Car              12.05   \n",
       "46   Escort                         70.227    Passenger              12.07   \n",
       "..                 ...                 ...          ...                ...   \n",
       "99   CL500                           0.954    Passenger               85.5   \n",
       "26   Metro                          21.855    Passenger              9.235   \n",
       "62   Accent                         41.184    Passenger              9.699   \n",
       "2    CL                             14.114    Passenger                NaN   \n",
       "33   Town & Country                 53.480          Car                NaN   \n",
       "\n",
       "    Engine size Horsepower Wheelbase Width Length Curb weight Fuel capacity  \\\n",
       "129         1.9        100     102.4  66.4  176.9       2.332          12.1   \n",
       "140         2.4        142     103.3  66.5  178.7        2.58          15.1   \n",
       "63            2        140     100.4  66.9    174       2.626          14.5   \n",
       "55          2.5        119     117.5  69.4  200.7       3.086            20   \n",
       "46            2        110      98.4    67  174.7       2.468          12.7   \n",
       "..          ...        ...       ...   ...    ...         ...           ...   \n",
       "99            5        302     113.6  73.1  196.6       4.115          23.2   \n",
       "26            1         55      93.1  62.6  149.4       1.895          10.3   \n",
       "62          1.5         92      96.1  65.7  166.7        2.24          11.9   \n",
       "2           3.2        225     106.9  70.6    192        3.47          17.2   \n",
       "33          NaN        NaN       NaN   NaN    NaN         NaN           NaN   \n",
       "\n",
       "    Latest Launch  \n",
       "129     16-Aug-14  \n",
       "140      8-Jan-15  \n",
       "63      15-Nov-15  \n",
       "55      14-Jan-14  \n",
       "46      31-Mar-14  \n",
       "..            ...  \n",
       "99       4-Nov-15  \n",
       "26      13-Apr-14  \n",
       "62       9-Oct-14  \n",
       "2        1-Apr-14  \n",
       "33      13-Jul-15  \n",
       "\n",
       "[157 rows x 12 columns]"
      ]
     },
     "execution_count": 239,
     "metadata": {},
     "output_type": "execute_result"
    }
   ],
   "source": [
    "df.sort_values(by=\"Price in thousands\")"
   ]
  },
  {
   "cell_type": "code",
   "execution_count": 241,
   "id": "8009eb6d-b1a4-4035-80f2-4e43f8a2a208",
   "metadata": {},
   "outputs": [],
   "source": [
    "df=df[\"Price in thousands\"].astype(\"float64\")"
   ]
  },
  {
   "cell_type": "code",
   "execution_count": 243,
   "id": "79c0121d-4d84-480e-86c6-8d4de54b364c",
   "metadata": {},
   "outputs": [
    {
     "name": "stdout",
     "output_type": "stream",
     "text": [
      "<class 'pandas.core.series.Series'>\n",
      "RangeIndex: 157 entries, 0 to 156\n",
      "Series name: Price in thousands\n",
      "Non-Null Count  Dtype  \n",
      "--------------  -----  \n",
      "155 non-null    float64\n",
      "dtypes: float64(1)\n",
      "memory usage: 1.4 KB\n"
     ]
    }
   ],
   "source": [
    "df.info()"
   ]
  },
  {
   "cell_type": "code",
   "execution_count": 245,
   "id": "442c7603-a843-4780-97b1-c6489252ee46",
   "metadata": {},
   "outputs": [
    {
     "name": "stdout",
     "output_type": "stream",
     "text": [
      "2\n"
     ]
    }
   ],
   "source": [
    "print(df.isnull().sum())"
   ]
  },
  {
   "cell_type": "code",
   "execution_count": 247,
   "id": "be1c9562-63fe-481b-b9c8-32ec8941b385",
   "metadata": {},
   "outputs": [
    {
     "name": "stdout",
     "output_type": "stream",
     "text": [
      "<class 'pandas.core.series.Series'>\n",
      "RangeIndex: 157 entries, 0 to 156\n",
      "Series name: Price in thousands\n",
      "Non-Null Count  Dtype  \n",
      "--------------  -----  \n",
      "155 non-null    float64\n",
      "dtypes: float64(1)\n",
      "memory usage: 1.4 KB\n"
     ]
    }
   ],
   "source": [
    "df.info()\n"
   ]
  },
  {
   "cell_type": "code",
   "execution_count": 249,
   "id": "48179548-9e07-4883-bbcf-092f173f8e3c",
   "metadata": {},
   "outputs": [
    {
     "name": "stdout",
     "output_type": "stream",
     "text": [
      "<class 'pandas.core.series.Series'>\n",
      "RangeIndex: 157 entries, 0 to 156\n",
      "Series name: Price in thousands\n",
      "Non-Null Count  Dtype  \n",
      "--------------  -----  \n",
      "155 non-null    float64\n",
      "dtypes: float64(1)\n",
      "memory usage: 1.4 KB\n",
      "None\n"
     ]
    }
   ],
   "source": [
    "print(df.info())"
   ]
  },
  {
   "cell_type": "code",
   "execution_count": 251,
   "id": "f467ffa7-25fa-4806-9708-e0b32c2546b1",
   "metadata": {},
   "outputs": [
    {
     "name": "stdout",
     "output_type": "stream",
     "text": [
      "    Manufacturer              Model  Sales in thousands 4-year resale value  \\\n",
      "0  Acura          Integra                        16.919               16.36   \n",
      "1  Acura          TL                             39.384              19.875   \n",
      "2  Acura          CL                             14.114              18.225   \n",
      "3  Acura          RL                              8.588              29.725   \n",
      "4  Audi           A4                             20.397              22.255   \n",
      "\n",
      "  Vehicle type Price in thousands Engine size Horsepower Wheelbase Width  \\\n",
      "0    Passenger               21.5         1.8        140     101.2  67.3   \n",
      "1    Passenger               28.4         3.2        225     108.1  70.3   \n",
      "2    Passenger                  .         3.2        225     106.9  70.6   \n",
      "3    Passenger                 42         3.5        210     114.6  71.4   \n",
      "4    Passenger              23.99         1.8        150     102.6  68.2   \n",
      "\n",
      "  Length Curb weight Fuel capacity Fuel efficiency Latest Launch  \n",
      "0  172.4       2.639          13.2              28      2-Feb-14  \n",
      "1  192.9       3.517          17.2              25      6-Mar-15  \n",
      "2    192        3.47          17.2              26      1-Apr-14  \n",
      "3  196.6        3.85            18              22      3-Oct-15  \n",
      "4    178       2.998          16.4              27     10-Aug-15  \n"
     ]
    }
   ],
   "source": [
    "import pandas as pd\n",
    "df=pd.read_csv(\"Car_sales.csv\")\n",
    "print(df.head())"
   ]
  },
  {
   "cell_type": "code",
   "execution_count": 253,
   "id": "970eeb89-8ae3-41f6-bfb4-969ebc0ddc36",
   "metadata": {},
   "outputs": [
    {
     "name": "stdout",
     "output_type": "stream",
     "text": [
      "Manufacturer            0\n",
      "Model                   0\n",
      "Sales in thousands      0\n",
      "4-year resale value    36\n",
      "Vehicle type            0\n",
      "Price in thousands      2\n",
      "Engine size             1\n",
      "Horsepower              1\n",
      "Wheelbase               1\n",
      "Width                   1\n",
      "Length                  1\n",
      "Curb weight             2\n",
      "Fuel capacity           1\n",
      "Fuel efficiency         3\n",
      "Latest Launch           0\n",
      "dtype: int64\n"
     ]
    }
   ],
   "source": [
    "import numpy as np\n",
    "df=df.replace('.',np.nan)\n",
    "print(df.isnull().sum())"
   ]
  },
  {
   "cell_type": "code",
   "execution_count": 255,
   "id": "265dd15d-a6e3-4ff5-9d34-202b67e64993",
   "metadata": {},
   "outputs": [
    {
     "name": "stdout",
     "output_type": "stream",
     "text": [
      "Manufacturer            0\n",
      "Model                   0\n",
      "Sales in thousands      0\n",
      "4-year resale value    36\n",
      "Vehicle type            0\n",
      "Price in thousands      2\n",
      "Engine size             1\n",
      "Horsepower              1\n",
      "Wheelbase               1\n",
      "Width                   1\n",
      "Length                  1\n",
      "Curb weight             2\n",
      "Fuel capacity           1\n",
      "Fuel efficiency         3\n",
      "Latest Launch           0\n",
      "dtype: int64\n"
     ]
    }
   ],
   "source": [
    "print(df.isnull().sum())"
   ]
  },
  {
   "cell_type": "code",
   "execution_count": 257,
   "id": "3f61e64c-7e03-427a-81c4-dd50d6f86ade",
   "metadata": {},
   "outputs": [
    {
     "name": "stdout",
     "output_type": "stream",
     "text": [
      "<class 'pandas.core.frame.DataFrame'>\n",
      "RangeIndex: 157 entries, 0 to 156\n",
      "Data columns (total 15 columns):\n",
      " #   Column               Non-Null Count  Dtype  \n",
      "---  ------               --------------  -----  \n",
      " 0   Manufacturer         157 non-null    object \n",
      " 1   Model                157 non-null    object \n",
      " 2   Sales in thousands   157 non-null    float64\n",
      " 3   4-year resale value  121 non-null    object \n",
      " 4   Vehicle type         157 non-null    object \n",
      " 5   Price in thousands   155 non-null    object \n",
      " 6   Engine size          156 non-null    object \n",
      " 7   Horsepower           156 non-null    object \n",
      " 8   Wheelbase            156 non-null    object \n",
      " 9   Width                156 non-null    object \n",
      " 10  Length               156 non-null    object \n",
      " 11  Curb weight          155 non-null    object \n",
      " 12  Fuel capacity        156 non-null    object \n",
      " 13  Fuel efficiency      154 non-null    object \n",
      " 14  Latest Launch        157 non-null    object \n",
      "dtypes: float64(1), object(14)\n",
      "memory usage: 18.5+ KB\n",
      "None\n"
     ]
    }
   ],
   "source": [
    "print(df.info())"
   ]
  },
  {
   "cell_type": "code",
   "execution_count": 259,
   "id": "1cba0a79-d00a-4dd7-8f21-cc97b0b0cf91",
   "metadata": {},
   "outputs": [],
   "source": [
    "df[\"Price in thousands\"]=df[\"Price in thousands\"].astype(\"float64\")"
   ]
  },
  {
   "cell_type": "code",
   "execution_count": 261,
   "id": "61a90b6a-34b1-4326-a006-0aa1f1596ea8",
   "metadata": {},
   "outputs": [
    {
     "name": "stdout",
     "output_type": "stream",
     "text": [
      "<class 'pandas.core.frame.DataFrame'>\n",
      "RangeIndex: 157 entries, 0 to 156\n",
      "Data columns (total 15 columns):\n",
      " #   Column               Non-Null Count  Dtype  \n",
      "---  ------               --------------  -----  \n",
      " 0   Manufacturer         157 non-null    object \n",
      " 1   Model                157 non-null    object \n",
      " 2   Sales in thousands   157 non-null    float64\n",
      " 3   4-year resale value  121 non-null    object \n",
      " 4   Vehicle type         157 non-null    object \n",
      " 5   Price in thousands   155 non-null    float64\n",
      " 6   Engine size          156 non-null    object \n",
      " 7   Horsepower           156 non-null    object \n",
      " 8   Wheelbase            156 non-null    object \n",
      " 9   Width                156 non-null    object \n",
      " 10  Length               156 non-null    object \n",
      " 11  Curb weight          155 non-null    object \n",
      " 12  Fuel capacity        156 non-null    object \n",
      " 13  Fuel efficiency      154 non-null    object \n",
      " 14  Latest Launch        157 non-null    object \n",
      "dtypes: float64(2), object(13)\n",
      "memory usage: 18.5+ KB\n",
      "None\n"
     ]
    }
   ],
   "source": [
    "print(df.info())"
   ]
  },
  {
   "cell_type": "code",
   "execution_count": null,
   "id": "183eb6dc-d666-4945-8623-dc262bec240c",
   "metadata": {},
   "outputs": [],
   "source": [
    "11. Sort the data w.r.t price_find the details of the most and the least expensive cars"
   ]
  },
  {
   "cell_type": "code",
   "execution_count": 263,
   "id": "a5983436-3d19-4afc-a70d-3af6062e480b",
   "metadata": {},
   "outputs": [
    {
     "data": {
      "text/html": [
       "<div>\n",
       "<style scoped>\n",
       "    .dataframe tbody tr th:only-of-type {\n",
       "        vertical-align: middle;\n",
       "    }\n",
       "\n",
       "    .dataframe tbody tr th {\n",
       "        vertical-align: top;\n",
       "    }\n",
       "\n",
       "    .dataframe thead th {\n",
       "        text-align: right;\n",
       "    }\n",
       "</style>\n",
       "<table border=\"1\" class=\"dataframe\">\n",
       "  <thead>\n",
       "    <tr style=\"text-align: right;\">\n",
       "      <th></th>\n",
       "      <th>Manufacturer</th>\n",
       "      <th>Model</th>\n",
       "      <th>Sales in thousands</th>\n",
       "      <th>4-year resale value</th>\n",
       "      <th>Vehicle type</th>\n",
       "      <th>Price in thousands</th>\n",
       "      <th>Engine size</th>\n",
       "      <th>Horsepower</th>\n",
       "      <th>Wheelbase</th>\n",
       "      <th>Width</th>\n",
       "      <th>Length</th>\n",
       "      <th>Curb weight</th>\n",
       "      <th>Fuel capacity</th>\n",
       "      <th>Fuel efficiency</th>\n",
       "      <th>Latest Launch</th>\n",
       "    </tr>\n",
       "  </thead>\n",
       "  <tbody>\n",
       "    <tr>\n",
       "      <th>26</th>\n",
       "      <td>Chevrolet</td>\n",
       "      <td>Metro</td>\n",
       "      <td>21.855</td>\n",
       "      <td>5.16</td>\n",
       "      <td>Passenger</td>\n",
       "      <td>9.235</td>\n",
       "      <td>1</td>\n",
       "      <td>55</td>\n",
       "      <td>93.1</td>\n",
       "      <td>62.6</td>\n",
       "      <td>149.4</td>\n",
       "      <td>1.895</td>\n",
       "      <td>10.3</td>\n",
       "      <td>45</td>\n",
       "      <td>13-Apr-14</td>\n",
       "    </tr>\n",
       "    <tr>\n",
       "      <th>62</th>\n",
       "      <td>Hyundai</td>\n",
       "      <td>Accent</td>\n",
       "      <td>41.184</td>\n",
       "      <td>5.86</td>\n",
       "      <td>Passenger</td>\n",
       "      <td>9.699</td>\n",
       "      <td>1.5</td>\n",
       "      <td>92</td>\n",
       "      <td>96.1</td>\n",
       "      <td>65.7</td>\n",
       "      <td>166.7</td>\n",
       "      <td>2.24</td>\n",
       "      <td>11.9</td>\n",
       "      <td>31</td>\n",
       "      <td>9-Oct-14</td>\n",
       "    </tr>\n",
       "    <tr>\n",
       "      <th>129</th>\n",
       "      <td>Saturn</td>\n",
       "      <td>SL</td>\n",
       "      <td>80.620</td>\n",
       "      <td>9.2</td>\n",
       "      <td>Passenger</td>\n",
       "      <td>10.685</td>\n",
       "      <td>1.9</td>\n",
       "      <td>100</td>\n",
       "      <td>102.4</td>\n",
       "      <td>66.4</td>\n",
       "      <td>176.9</td>\n",
       "      <td>2.332</td>\n",
       "      <td>12.1</td>\n",
       "      <td>33</td>\n",
       "      <td>16-Aug-14</td>\n",
       "    </tr>\n",
       "    <tr>\n",
       "      <th>140</th>\n",
       "      <td>Toyota</td>\n",
       "      <td>Tacoma</td>\n",
       "      <td>84.087</td>\n",
       "      <td>9.575</td>\n",
       "      <td>Car</td>\n",
       "      <td>11.528</td>\n",
       "      <td>2.4</td>\n",
       "      <td>142</td>\n",
       "      <td>103.3</td>\n",
       "      <td>66.5</td>\n",
       "      <td>178.7</td>\n",
       "      <td>2.58</td>\n",
       "      <td>15.1</td>\n",
       "      <td>23</td>\n",
       "      <td>8-Jan-15</td>\n",
       "    </tr>\n",
       "    <tr>\n",
       "      <th>63</th>\n",
       "      <td>Hyundai</td>\n",
       "      <td>Elantra</td>\n",
       "      <td>66.692</td>\n",
       "      <td>7.825</td>\n",
       "      <td>Passenger</td>\n",
       "      <td>11.799</td>\n",
       "      <td>2</td>\n",
       "      <td>140</td>\n",
       "      <td>100.4</td>\n",
       "      <td>66.9</td>\n",
       "      <td>174</td>\n",
       "      <td>2.626</td>\n",
       "      <td>14.5</td>\n",
       "      <td>27</td>\n",
       "      <td>15-Nov-15</td>\n",
       "    </tr>\n",
       "    <tr>\n",
       "      <th>...</th>\n",
       "      <td>...</td>\n",
       "      <td>...</td>\n",
       "      <td>...</td>\n",
       "      <td>...</td>\n",
       "      <td>...</td>\n",
       "      <td>...</td>\n",
       "      <td>...</td>\n",
       "      <td>...</td>\n",
       "      <td>...</td>\n",
       "      <td>...</td>\n",
       "      <td>...</td>\n",
       "      <td>...</td>\n",
       "      <td>...</td>\n",
       "      <td>...</td>\n",
       "      <td>...</td>\n",
       "    </tr>\n",
       "    <tr>\n",
       "      <th>126</th>\n",
       "      <td>Porsche</td>\n",
       "      <td>Carrera Cabriolet</td>\n",
       "      <td>1.866</td>\n",
       "      <td>67.55</td>\n",
       "      <td>Passenger</td>\n",
       "      <td>74.970</td>\n",
       "      <td>3.4</td>\n",
       "      <td>300</td>\n",
       "      <td>92.6</td>\n",
       "      <td>69.5</td>\n",
       "      <td>174.5</td>\n",
       "      <td>3.075</td>\n",
       "      <td>17</td>\n",
       "      <td>23</td>\n",
       "      <td>7-Nov-15</td>\n",
       "    </tr>\n",
       "    <tr>\n",
       "      <th>95</th>\n",
       "      <td>Mercedes-Benz</td>\n",
       "      <td>SL-Class</td>\n",
       "      <td>3.311</td>\n",
       "      <td>58.6</td>\n",
       "      <td>Passenger</td>\n",
       "      <td>82.600</td>\n",
       "      <td>5</td>\n",
       "      <td>302</td>\n",
       "      <td>99</td>\n",
       "      <td>71.3</td>\n",
       "      <td>177.1</td>\n",
       "      <td>4.125</td>\n",
       "      <td>21.1</td>\n",
       "      <td>20</td>\n",
       "      <td>17-Mar-15</td>\n",
       "    </tr>\n",
       "    <tr>\n",
       "      <th>99</th>\n",
       "      <td>Mercedes-Benz</td>\n",
       "      <td>CL500</td>\n",
       "      <td>0.954</td>\n",
       "      <td>NaN</td>\n",
       "      <td>Passenger</td>\n",
       "      <td>85.500</td>\n",
       "      <td>5</td>\n",
       "      <td>302</td>\n",
       "      <td>113.6</td>\n",
       "      <td>73.1</td>\n",
       "      <td>196.6</td>\n",
       "      <td>4.115</td>\n",
       "      <td>23.2</td>\n",
       "      <td>20</td>\n",
       "      <td>4-Nov-15</td>\n",
       "    </tr>\n",
       "    <tr>\n",
       "      <th>2</th>\n",
       "      <td>Acura</td>\n",
       "      <td>CL</td>\n",
       "      <td>14.114</td>\n",
       "      <td>18.225</td>\n",
       "      <td>Passenger</td>\n",
       "      <td>NaN</td>\n",
       "      <td>3.2</td>\n",
       "      <td>225</td>\n",
       "      <td>106.9</td>\n",
       "      <td>70.6</td>\n",
       "      <td>192</td>\n",
       "      <td>3.47</td>\n",
       "      <td>17.2</td>\n",
       "      <td>26</td>\n",
       "      <td>1-Apr-14</td>\n",
       "    </tr>\n",
       "    <tr>\n",
       "      <th>33</th>\n",
       "      <td>Chrysler</td>\n",
       "      <td>Town &amp; Country</td>\n",
       "      <td>53.480</td>\n",
       "      <td>19.54</td>\n",
       "      <td>Car</td>\n",
       "      <td>NaN</td>\n",
       "      <td>NaN</td>\n",
       "      <td>NaN</td>\n",
       "      <td>NaN</td>\n",
       "      <td>NaN</td>\n",
       "      <td>NaN</td>\n",
       "      <td>NaN</td>\n",
       "      <td>NaN</td>\n",
       "      <td>NaN</td>\n",
       "      <td>13-Jul-15</td>\n",
       "    </tr>\n",
       "  </tbody>\n",
       "</table>\n",
       "<p>157 rows × 15 columns</p>\n",
       "</div>"
      ],
      "text/plain": [
       "      Manufacturer              Model  Sales in thousands 4-year resale value  \\\n",
       "26   Chevrolet      Metro                          21.855                5.16   \n",
       "62   Hyundai        Accent                         41.184                5.86   \n",
       "129  Saturn         SL                             80.620                 9.2   \n",
       "140  Toyota         Tacoma                         84.087               9.575   \n",
       "63   Hyundai        Elantra                        66.692               7.825   \n",
       "..             ...                ...                 ...                 ...   \n",
       "126  Porsche        Carrera Cabriolet               1.866               67.55   \n",
       "95   Mercedes-Benz  SL-Class                        3.311                58.6   \n",
       "99   Mercedes-Benz  CL500                           0.954                 NaN   \n",
       "2    Acura          CL                             14.114              18.225   \n",
       "33   Chrysler       Town & Country                 53.480               19.54   \n",
       "\n",
       "    Vehicle type  Price in thousands Engine size Horsepower Wheelbase Width  \\\n",
       "26     Passenger               9.235           1         55      93.1  62.6   \n",
       "62     Passenger               9.699         1.5         92      96.1  65.7   \n",
       "129    Passenger              10.685         1.9        100     102.4  66.4   \n",
       "140          Car              11.528         2.4        142     103.3  66.5   \n",
       "63     Passenger              11.799           2        140     100.4  66.9   \n",
       "..           ...                 ...         ...        ...       ...   ...   \n",
       "126    Passenger              74.970         3.4        300      92.6  69.5   \n",
       "95     Passenger              82.600           5        302        99  71.3   \n",
       "99     Passenger              85.500           5        302     113.6  73.1   \n",
       "2      Passenger                 NaN         3.2        225     106.9  70.6   \n",
       "33           Car                 NaN         NaN        NaN       NaN   NaN   \n",
       "\n",
       "    Length Curb weight Fuel capacity Fuel efficiency Latest Launch  \n",
       "26   149.4       1.895          10.3              45     13-Apr-14  \n",
       "62   166.7        2.24          11.9              31      9-Oct-14  \n",
       "129  176.9       2.332          12.1              33     16-Aug-14  \n",
       "140  178.7        2.58          15.1              23      8-Jan-15  \n",
       "63     174       2.626          14.5              27     15-Nov-15  \n",
       "..     ...         ...           ...             ...           ...  \n",
       "126  174.5       3.075            17              23      7-Nov-15  \n",
       "95   177.1       4.125          21.1              20     17-Mar-15  \n",
       "99   196.6       4.115          23.2              20      4-Nov-15  \n",
       "2      192        3.47          17.2              26      1-Apr-14  \n",
       "33     NaN         NaN           NaN             NaN     13-Jul-15  \n",
       "\n",
       "[157 rows x 15 columns]"
      ]
     },
     "execution_count": 263,
     "metadata": {},
     "output_type": "execute_result"
    }
   ],
   "source": [
    "df.sort_values(by=\"Price in thousands\")"
   ]
  },
  {
   "cell_type": "code",
   "execution_count": 267,
   "id": "c8b53c5f-18f6-47a9-aa70-58a2a89258fc",
   "metadata": {},
   "outputs": [
    {
     "name": "stdout",
     "output_type": "stream",
     "text": [
      "Available columns: Index(['Manufacturer', 'Model', 'Sales in thousands', '4-year resale value',\n",
      "       'Vehicle type', 'Price in thousands', 'Engine size', 'Horsepower',\n",
      "       'Wheelbase', 'Width', 'Length', 'Curb weight', 'Fuel capacity',\n",
      "       'Fuel efficiency', 'Latest Launch'],\n",
      "      dtype='object')\n"
     ]
    }
   ],
   "source": [
    "import pandas as pd\n",
    "df = pd.read_csv(\"Car_sales.csv\")\n",
    "df.columns = df.columns.str.strip()\n",
    "print(\"Available columns:\", df.columns)"
   ]
  },
  {
   "cell_type": "code",
   "execution_count": 269,
   "id": "8c28df12-243b-4767-b1c2-8b9335bc7057",
   "metadata": {},
   "outputs": [
    {
     "name": "stdout",
     "output_type": "stream",
     "text": [
      "Requirement already satisfied: seaborn in /home/rgukt-basar/anaconda3/lib/python3.12/site-packages (0.13.2)\n",
      "Requirement already satisfied: numpy!=1.24.0,>=1.20 in /home/rgukt-basar/anaconda3/lib/python3.12/site-packages (from seaborn) (1.26.4)\n",
      "Requirement already satisfied: pandas>=1.2 in /home/rgukt-basar/anaconda3/lib/python3.12/site-packages (from seaborn) (2.2.2)\n",
      "Requirement already satisfied: matplotlib!=3.6.1,>=3.4 in /home/rgukt-basar/anaconda3/lib/python3.12/site-packages (from seaborn) (3.9.2)\n",
      "Requirement already satisfied: contourpy>=1.0.1 in /home/rgukt-basar/anaconda3/lib/python3.12/site-packages (from matplotlib!=3.6.1,>=3.4->seaborn) (1.2.0)\n",
      "Requirement already satisfied: cycler>=0.10 in /home/rgukt-basar/anaconda3/lib/python3.12/site-packages (from matplotlib!=3.6.1,>=3.4->seaborn) (0.11.0)\n",
      "Requirement already satisfied: fonttools>=4.22.0 in /home/rgukt-basar/anaconda3/lib/python3.12/site-packages (from matplotlib!=3.6.1,>=3.4->seaborn) (4.51.0)\n",
      "Requirement already satisfied: kiwisolver>=1.3.1 in /home/rgukt-basar/anaconda3/lib/python3.12/site-packages (from matplotlib!=3.6.1,>=3.4->seaborn) (1.4.4)\n",
      "Requirement already satisfied: packaging>=20.0 in /home/rgukt-basar/anaconda3/lib/python3.12/site-packages (from matplotlib!=3.6.1,>=3.4->seaborn) (24.1)\n",
      "Requirement already satisfied: pillow>=8 in /home/rgukt-basar/anaconda3/lib/python3.12/site-packages (from matplotlib!=3.6.1,>=3.4->seaborn) (10.4.0)\n",
      "Requirement already satisfied: pyparsing>=2.3.1 in /home/rgukt-basar/anaconda3/lib/python3.12/site-packages (from matplotlib!=3.6.1,>=3.4->seaborn) (3.1.2)\n",
      "Requirement already satisfied: python-dateutil>=2.7 in /home/rgukt-basar/anaconda3/lib/python3.12/site-packages (from matplotlib!=3.6.1,>=3.4->seaborn) (2.9.0.post0)\n",
      "Requirement already satisfied: pytz>=2020.1 in /home/rgukt-basar/anaconda3/lib/python3.12/site-packages (from pandas>=1.2->seaborn) (2024.1)\n",
      "Requirement already satisfied: tzdata>=2022.7 in /home/rgukt-basar/anaconda3/lib/python3.12/site-packages (from pandas>=1.2->seaborn) (2023.3)\n",
      "Requirement already satisfied: six>=1.5 in /home/rgukt-basar/anaconda3/lib/python3.12/site-packages (from python-dateutil>=2.7->matplotlib!=3.6.1,>=3.4->seaborn) (1.16.0)\n",
      "Note: you may need to restart the kernel to use updated packages.\n"
     ]
    }
   ],
   "source": [
    "pip install seaborn"
   ]
  },
  {
   "cell_type": "code",
   "execution_count": 271,
   "id": "75ab3383-0b5c-48ce-acf6-4ec85467a8df",
   "metadata": {},
   "outputs": [
    {
     "name": "stdout",
     "output_type": "stream",
     "text": [
      "Channels:\n",
      " - defaults\n",
      "Platform: linux-64\n",
      "Collecting package metadata (repodata.json): / Retrying (Retry(total=2, connect=None, read=None, redirect=None, status=None)) after connection broken by 'ReadTimeoutError(\"HTTPSConnectionPool(host='repo.anaconda.com', port=443): Read timed out. (read timeout=9.15)\")': /pkgs/r/noarch/repodata.json.zst\n",
      "\n",
      "Retrying (Retry(total=2, connect=None, read=None, redirect=None, status=None)) after connection broken by 'ReadTimeoutError(\"HTTPSConnectionPool(host='repo.anaconda.com', port=443): Read timed out. (read timeout=9.15)\")': /pkgs/r/linux-64/repodata.json.zst\n",
      "\n",
      "Retrying (Retry(total=2, connect=None, read=None, redirect=None, status=None)) after connection broken by 'ReadTimeoutError(\"HTTPSConnectionPool(host='repo.anaconda.com', port=443): Read timed out. (read timeout=9.15)\")': /pkgs/main/linux-64/repodata.json.zst\n",
      "\n",
      "Retrying (Retry(total=2, connect=None, read=None, redirect=None, status=None)) after connection broken by 'ReadTimeoutError(\"HTTPSConnectionPool(host='repo.anaconda.com', port=443): Read timed out. (read timeout=9.15)\")': /pkgs/main/noarch/repodata.json.zst\n",
      "\n",
      "- Retrying (Retry(total=1, connect=None, read=None, redirect=None, status=None)) after connection broken by 'ReadTimeoutError(\"HTTPSConnectionPool(host='repo.anaconda.com', port=443): Read timed out. (read timeout=9.15)\")': /pkgs/r/noarch/repodata.json.zst\n",
      "\n",
      "Retrying (Retry(total=1, connect=None, read=None, redirect=None, status=None)) after connection broken by 'ReadTimeoutError(\"HTTPSConnectionPool(host='repo.anaconda.com', port=443): Read timed out. (read timeout=9.15)\")': /pkgs/r/linux-64/repodata.json.zst\n",
      "\n",
      "Retrying (Retry(total=1, connect=None, read=None, redirect=None, status=None)) after connection broken by 'ReadTimeoutError(\"HTTPSConnectionPool(host='repo.anaconda.com', port=443): Read timed out. (read timeout=9.15)\")': /pkgs/main/linux-64/repodata.json.zst\n",
      "\n",
      "Retrying (Retry(total=1, connect=None, read=None, redirect=None, status=None)) after connection broken by 'ReadTimeoutError(\"HTTPSConnectionPool(host='repo.anaconda.com', port=443): Read timed out. (read timeout=9.15)\")': /pkgs/main/noarch/repodata.json.zst\n",
      "\n",
      "| Retrying (Retry(total=0, connect=None, read=None, redirect=None, status=None)) after connection broken by 'ReadTimeoutError(\"HTTPSConnectionPool(host='repo.anaconda.com', port=443): Read timed out. (read timeout=9.15)\")': /pkgs/main/linux-64/repodata.json.zst\n",
      "\n",
      "Retrying (Retry(total=0, connect=None, read=None, redirect=None, status=None)) after connection broken by 'ReadTimeoutError(\"HTTPSConnectionPool(host='repo.anaconda.com', port=443): Read timed out. (read timeout=9.15)\")': /pkgs/main/noarch/repodata.json.zst\n",
      "\n",
      "Retrying (Retry(total=0, connect=None, read=None, redirect=None, status=None)) after connection broken by 'ReadTimeoutError(\"HTTPSConnectionPool(host='repo.anaconda.com', port=443): Read timed out. (read timeout=9.15)\")': /pkgs/r/noarch/repodata.json.zst\n",
      "\n",
      "Retrying (Retry(total=0, connect=None, read=None, redirect=None, status=None)) after connection broken by 'ReadTimeoutError(\"HTTPSConnectionPool(host='repo.anaconda.com', port=443): Read timed out. (read timeout=9.15)\")': /pkgs/r/linux-64/repodata.json.zst\n",
      "\n",
      "| ^C\n",
      "\\ \n",
      "Note: you may need to restart the kernel to use updated packages.\n"
     ]
    }
   ],
   "source": [
    "conda install seaborn"
   ]
  },
  {
   "cell_type": "code",
   "execution_count": null,
   "id": "847d6140-92f5-448a-ab50-f46c083e3232",
   "metadata": {},
   "outputs": [],
   "source": []
  },
  {
   "cell_type": "code",
   "execution_count": 7,
   "id": "f98b997a-51d6-4534-ab12-ee95b3c2dbdd",
   "metadata": {},
   "outputs": [
    {
     "data": {
      "text/html": [
       "<div>\n",
       "<style scoped>\n",
       "    .dataframe tbody tr th:only-of-type {\n",
       "        vertical-align: middle;\n",
       "    }\n",
       "\n",
       "    .dataframe tbody tr th {\n",
       "        vertical-align: top;\n",
       "    }\n",
       "\n",
       "    .dataframe thead th {\n",
       "        text-align: right;\n",
       "    }\n",
       "</style>\n",
       "<table border=\"1\" class=\"dataframe\">\n",
       "  <thead>\n",
       "    <tr style=\"text-align: right;\">\n",
       "      <th></th>\n",
       "      <th>Sales in thousands</th>\n",
       "    </tr>\n",
       "  </thead>\n",
       "  <tbody>\n",
       "    <tr>\n",
       "      <th>count</th>\n",
       "      <td>157.000000</td>\n",
       "    </tr>\n",
       "    <tr>\n",
       "      <th>mean</th>\n",
       "      <td>52.998076</td>\n",
       "    </tr>\n",
       "    <tr>\n",
       "      <th>std</th>\n",
       "      <td>68.029422</td>\n",
       "    </tr>\n",
       "    <tr>\n",
       "      <th>min</th>\n",
       "      <td>0.110000</td>\n",
       "    </tr>\n",
       "    <tr>\n",
       "      <th>25%</th>\n",
       "      <td>14.114000</td>\n",
       "    </tr>\n",
       "    <tr>\n",
       "      <th>50%</th>\n",
       "      <td>29.450000</td>\n",
       "    </tr>\n",
       "    <tr>\n",
       "      <th>75%</th>\n",
       "      <td>67.956000</td>\n",
       "    </tr>\n",
       "    <tr>\n",
       "      <th>max</th>\n",
       "      <td>540.561000</td>\n",
       "    </tr>\n",
       "  </tbody>\n",
       "</table>\n",
       "</div>"
      ],
      "text/plain": [
       "       Sales in thousands\n",
       "count          157.000000\n",
       "mean            52.998076\n",
       "std             68.029422\n",
       "min              0.110000\n",
       "25%             14.114000\n",
       "50%             29.450000\n",
       "75%             67.956000\n",
       "max            540.561000"
      ]
     },
     "execution_count": 7,
     "metadata": {},
     "output_type": "execute_result"
    }
   ],
   "source": [
    "df.describe()"
   ]
  },
  {
   "cell_type": "code",
   "execution_count": 9,
   "id": "cfcd9c33-43da-4593-b29a-83051ce5ecc8",
   "metadata": {},
   "outputs": [
    {
     "name": "stdout",
     "output_type": "stream",
     "text": [
      "Manufacturer           0\n",
      "Model                  0\n",
      "Sales in thousands     0\n",
      "4-year resale value    0\n",
      "Vehicle type           0\n",
      "Price in thousands     0\n",
      "Engine size            0\n",
      "Horsepower             0\n",
      "Wheelbase              0\n",
      "Width                  0\n",
      "Length                 0\n",
      "Curb weight            0\n",
      "Fuel capacity          0\n",
      "Fuel efficiency        0\n",
      "Latest Launch          0\n",
      "dtype: int64\n"
     ]
    }
   ],
   "source": [
    "print(df.isnull().sum())"
   ]
  },
  {
   "cell_type": "code",
   "execution_count": 11,
   "id": "2058c75d-7bd6-4f9d-9bb9-2957ac4d351e",
   "metadata": {},
   "outputs": [],
   "source": [
    "import pandas as pd\n",
    "df=pd.read_csv(\"Car_sales.csv\")"
   ]
  },
  {
   "cell_type": "code",
   "execution_count": 13,
   "id": "82eebb26-9b0c-480c-85e2-650a296fcd62",
   "metadata": {},
   "outputs": [
    {
     "name": "stdout",
     "output_type": "stream",
     "text": [
      "Manufacturer            0\n",
      "Model                   0\n",
      "Sales in thousands      0\n",
      "4-year resale value    36\n",
      "Vehicle type            0\n",
      "Price in thousands      2\n",
      "Engine size             1\n",
      "Horsepower              1\n",
      "Wheelbase               1\n",
      "Width                   1\n",
      "Length                  1\n",
      "Curb weight             2\n",
      "Fuel capacity           1\n",
      "Fuel efficiency         3\n",
      "Latest Launch           0\n",
      "dtype: int64\n"
     ]
    }
   ],
   "source": [
    "import numpy as np\n",
    "df=df.replace('.',np.nan)\n",
    "print(df.isnull().sum())"
   ]
  },
  {
   "cell_type": "code",
   "execution_count": 17,
   "id": "1e83dccc-8054-4d35-bb46-9e63cc0b8f2c",
   "metadata": {},
   "outputs": [
    {
     "data": {
      "text/html": [
       "<div>\n",
       "<style scoped>\n",
       "    .dataframe tbody tr th:only-of-type {\n",
       "        vertical-align: middle;\n",
       "    }\n",
       "\n",
       "    .dataframe tbody tr th {\n",
       "        vertical-align: top;\n",
       "    }\n",
       "\n",
       "    .dataframe thead th {\n",
       "        text-align: right;\n",
       "    }\n",
       "</style>\n",
       "<table border=\"1\" class=\"dataframe\">\n",
       "  <thead>\n",
       "    <tr style=\"text-align: right;\">\n",
       "      <th></th>\n",
       "      <th>Sales in thousands</th>\n",
       "    </tr>\n",
       "  </thead>\n",
       "  <tbody>\n",
       "    <tr>\n",
       "      <th>count</th>\n",
       "      <td>157.000000</td>\n",
       "    </tr>\n",
       "    <tr>\n",
       "      <th>mean</th>\n",
       "      <td>52.998076</td>\n",
       "    </tr>\n",
       "    <tr>\n",
       "      <th>std</th>\n",
       "      <td>68.029422</td>\n",
       "    </tr>\n",
       "    <tr>\n",
       "      <th>min</th>\n",
       "      <td>0.110000</td>\n",
       "    </tr>\n",
       "    <tr>\n",
       "      <th>25%</th>\n",
       "      <td>14.114000</td>\n",
       "    </tr>\n",
       "    <tr>\n",
       "      <th>50%</th>\n",
       "      <td>29.450000</td>\n",
       "    </tr>\n",
       "    <tr>\n",
       "      <th>75%</th>\n",
       "      <td>67.956000</td>\n",
       "    </tr>\n",
       "    <tr>\n",
       "      <th>max</th>\n",
       "      <td>540.561000</td>\n",
       "    </tr>\n",
       "  </tbody>\n",
       "</table>\n",
       "</div>"
      ],
      "text/plain": [
       "       Sales in thousands\n",
       "count          157.000000\n",
       "mean            52.998076\n",
       "std             68.029422\n",
       "min              0.110000\n",
       "25%             14.114000\n",
       "50%             29.450000\n",
       "75%             67.956000\n",
       "max            540.561000"
      ]
     },
     "execution_count": 17,
     "metadata": {},
     "output_type": "execute_result"
    }
   ],
   "source": [
    "df.describe()"
   ]
  },
  {
   "cell_type": "code",
   "execution_count": 29,
   "id": "d5610f8b-63e2-45a2-b682-706cb836b60f",
   "metadata": {},
   "outputs": [
    {
     "data": {
      "text/plain": [
       "array([[<Axes: title={'center': 'Price in thousands'}>,\n",
       "        <Axes: title={'center': 'Sales in thousands'}>]], dtype=object)"
      ]
     },
     "execution_count": 29,
     "metadata": {},
     "output_type": "execute_result"
    },
    {
     "data": {
      "image/png": "[encoded data removed]",
      "text/plain": [
       "<Figure size 640x480 with 2 Axes>"
      ]
     },
     "metadata": {},
     "output_type": "display_data"
    }
   ],
   "source": [
    "df[[\"Price in thousands\", \"Sales in thousands\"]].hist()"
   ]
  },
  {
   "cell_type": "code",
   "execution_count": 27,
   "id": "c2b5f7cc-bcf4-4ce3-80ab-f9c125cc9328",
   "metadata": {},
   "outputs": [],
   "source": [
    "df[\"Price in thousands\"]=df[\"Price in thousands\"].astype(\"float64\")   "
   ]
  },
  {
   "cell_type": "code",
   "execution_count": null,
   "id": "dd447dd6-d053-45d1-884a-6e3015fbf18e",
   "metadata": {},
   "outputs": [],
   "source": []
  }
 ],
 "metadata": {
  "kernelspec": {
   "display_name": "Python [conda env:base] *",
   "language": "python",
   "name": "conda-base-py"
  },
  "language_info": {
   "codemirror_mode": {
    "name": "ipython",
    "version": 3
   },
   "file_extension": ".py",
   "mimetype": "text/x-python",
   "name": "python",
   "nbconvert_exporter": "python",
   "pygments_lexer": "ipython3",
   "version": "3.12.7"
  }
 },
 "nbformat": 4,
 "nbformat_minor": 5
}
